{
 "cells": [
  {
   "cell_type": "code",
   "execution_count": null,
   "id": "e723a7cf",
   "metadata": {},
   "outputs": [],
   "source": [
    "import sys, serial, argparse, time\n",
    "import numpy as np\n",
    "import pandas as pd\n",
    "\n",
    "import matplotlib.pyplot as plt\n",
    "import seaborn as sns\n",
    "import os\n",
    "#import matplotlib.animation as animation\n",
    "import scipy\n",
    "from scipy import signal\n",
    "from collections import deque"
   ]
  },
  {
   "cell_type": "code",
   "execution_count": null,
   "id": "571496be",
   "metadata": {
    "scrolled": true
   },
   "outputs": [],
   "source": [
    "ser = serial.Serial(\n",
    "    port='com3',\n",
    "    baudrate=19200,\n",
    ")"
   ]
  },
  {
   "cell_type": "code",
   "execution_count": null,
   "id": "81e4fd21",
   "metadata": {},
   "outputs": [],
   "source": [
    "del ser"
   ]
  },
  {
   "cell_type": "markdown",
   "id": "ff601814",
   "metadata": {},
   "source": [
    "# Real-time signal"
   ]
  },
  {
   "cell_type": "markdown",
   "id": "aefe2370",
   "metadata": {},
   "source": [
    "### Initialization - Zero setting\n",
    "\n",
    "#### sampling rate 변함 = 값이 커지거나 급변할 때 (터치, proximity sensing) 줄어듦 (9600 아닌 값들)\n",
    "#### 9600 에서는 38, 39 유지함 => 38.5 Hz"
   ]
  },
  {
   "cell_type": "code",
   "execution_count": null,
   "id": "5fad454f",
   "metadata": {},
   "outputs": [],
   "source": [
    "sensor1, sensor2, sensor3, sensor4, index  = [], [], [], [], []\n",
    "init_time = 6  #sec\n",
    "window_size, Sampling_freq = 19, 53\n",
    "\n",
    "init_period = Sampling_freq * init_time\n",
    "Threshold = 16.5\n",
    "hand_motion_period = 53\n",
    "\n",
    "front_period, back_period = 50, 70"
   ]
  },
  {
   "cell_type": "code",
   "execution_count": null,
   "id": "22d0515d",
   "metadata": {},
   "outputs": [],
   "source": [
    "def start_sensing_threshold(signal_lst, threshold, idx):\n",
    "    outcome = False\n",
    "    \n",
    "    if signal_lst[idx - 1] > threshold:  #현재 데이터\n",
    "        if signal_lst[idx - 2] < threshold:   #바로 전 데이터\n",
    "            outcome = True\n",
    "        else:\n",
    "            pass\n",
    "\n",
    "    return outcome\n",
    "        \n",
    "def end_sensing_threshold(signal_lst, threshold, idx):\n",
    "    outcome = False\n",
    "    \n",
    "    if signal_lst[idx - 1] < threshold:  #현재 데이터\n",
    "        if signal_lst[idx - 2] > threshold:   #바로 전 데이터\n",
    "            outcome = True\n",
    "        else:\n",
    "            pass\n",
    "\n",
    "    return outcome"
   ]
  },
  {
   "cell_type": "code",
   "execution_count": null,
   "id": "9aa7a035",
   "metadata": {},
   "outputs": [],
   "source": [
    "init_s1, init_s2, init_s3, init_s4, idx = [], [], [], [], 0\n",
    "print(\"First Initialization\")\n",
    "\n",
    "for i in range(1,5):\n",
    "    globals()['Test_threshold{}'.format(i)] = []\n",
    "\n",
    "for i in range(100): #처음 100개 데이터는 거름\n",
    "    tmp = ser.readline()\n",
    "\n",
    "for i in range(int(init_period)):\n",
    "\n",
    "    tmp = ser.readline()\n",
    "    s1, s2, s3, s4 = tmp.decode()[:5], tmp.decode()[6:11], tmp.decode()[12:17], tmp.decode()[18:]\n",
    "\n",
    "    try:\n",
    "        s1, s2, s3, s4 = (int(s1)-10000), (int(s2)-10000), (int(s3)-10000), (int(s4)-10000)\n",
    "    \n",
    "    except:\n",
    "        print(i, \"  Error\")\n",
    "        pass\n",
    "    \n",
    "    if type(s1) == int and type(s2) == int and type(s3) == int and type(s4) == int: \n",
    "        index.append(idx)\n",
    "        idx = idx + 1\n",
    "        \n",
    "        for j in range(1,5):\n",
    "            globals()['Test_threshold{}'.format(j)].append(0)\n",
    "            globals()['init_s{}'.format(j)].append(globals()['s{}'.format(j)])\n",
    "            globals()['sensor{}'.format(j)].append(globals()['s{}'.format(j)])\n",
    "\n",
    "offset_s1, offset_s2, offset_s3, offset_s4 = np.mean(init_s1), np.mean(init_s2), np.mean(init_s3), np.mean(init_s4)\n",
    "\n",
    "init_s1, init_s2, init_s3, init_s4 = [], [], [], []"
   ]
  },
  {
   "cell_type": "code",
   "execution_count": null,
   "id": "ae85099f",
   "metadata": {
    "scrolled": true
   },
   "outputs": [],
   "source": [
    "for i in range(1,5):\n",
    "    globals()['sensor{}_frame'.format(i)] = []  \n",
    "    globals()['S{}_Threshold'.format(i)], globals()['s{}_start_frame'.format(i)], globals()['s{}_end_frame'.format(i)] = Threshold, 0, 0\n",
    "    globals()['s{}_cnt'.format(i)], globals()['s{}_safe_cnt'.format(i)], globals()['s{}_safe_cnt_2'.format(i)] = 0, 0, 0\n",
    "    \n",
    "Final_frame, safe_cnt3, start_frame, end_frame, next_frame_period = [], 0, 0, 0, 0\n",
    "\n",
    "while True:\n",
    "    if ser.readable():\n",
    "        res = ser.readline()\n",
    "        s1, s2, s3, s4 = res.decode()[:5], res.decode()[6:11], res.decode()[12:17], res.decode()[18:]\n",
    "                        \n",
    "        try:\n",
    "            s1, s2, s3, s4 = (int(s1)-10000), (int(s2)-10000), (int(s3)-10000), (int(s4)-10000)\n",
    "\n",
    "        except:\n",
    "            print(idx, \" index has Error\")\n",
    "            pass\n",
    "        \n",
    "        if type(s1) == int and type(s2) == int and type(s3) == int and type(s4) == int: \n",
    "            index.append(idx)\n",
    "            \n",
    "            for i in range (1,5): \n",
    "                globals()['Test_threshold{}'.format(i)].append(globals()['S{}_Threshold'.format(i)])\n",
    "                \n",
    "                tmp2 = globals()['s{}'.format(i)] - globals()['offset_s{}'.format(i)]\n",
    "                tmp2 = np.abs(np.round(tmp2,3))\n",
    "                globals()['sensor{}'.format(i)].append(tmp2)\n",
    "                \n",
    "                if globals()['s{}_start_frame'.format(i)] == 0 and globals()['s{}_end_frame'.format(i)] == 0:  #안정해졌을 때 offset 계산해야 함\n",
    "                    globals()['init_s{}'.format(i)].append(globals()['s{}'.format(i)])\n",
    "                #-----------------------------------------------------------------------------------------------------------------------------------------\n",
    "                \n",
    "                if start_sensing_threshold(globals()['sensor{}'.format(i)], globals()['S{}_Threshold'.format(i)], idx) == True:  # Hand motion detection 시작\n",
    "                    globals()['s{}_start_frame'.format(i)] = idx - 70 #period 설정, 약 20 = 0.4 초 정도 앞으로\n",
    "                    globals()['s{}_safe_cnt_2'.format(i)] = globals()['s{}_safe_cnt_2'.format(i)] + 1\n",
    "                    print(i, \" 센서 넘음\", idx)\n",
    "                \n",
    "                elif globals()['sensor{}'.format(i)][idx] > globals()['S{}_Threshold'.format(i)]: # Hand motion detection 중간\n",
    "                    globals()['s{}_cnt'.format(i)], globals()['s{}_safe_cnt'.format(i)] = (globals()['s{}_cnt'.format(i)] + 1), (globals()['s{}_safe_cnt'.format(i)] + 1)\n",
    "                    \n",
    "                elif end_sensing_threshold(globals()['sensor{}'.format(i)], globals()['S{}_Threshold'.format(i)], idx) == True and globals()['s{}_cnt'.format(i)] > 0 and globals()['s{}_safe_cnt_2'.format(i)] > 0:  # Hand motion detection 끝\n",
    "                    globals()['s{}_end_frame'.format(i)] = idx + 70  #0.6초 정도 뒤로\n",
    "                    print(i, \" 센서 넘었다가 다시 내려감\", idx)\n",
    "                    globals()['s{}_safe_cnt'.format(i)] = 0\n",
    "                    \n",
    "                elif globals()['s{}_start_frame'.format(i)] == 0 and globals()['s{}_end_frame'.format(i)] == 0: #False 일 때, end_Frame 끝나면 ㄱ\n",
    "                    if idx % init_period == 0:  #매번 5초 마다 init 실행\n",
    "                        globals()['offset_s{}'.format(i)] = np.mean(globals()['init_s{}'.format(i)])\n",
    "                        idx_tmp = len(globals()['sensor{}'.format(i)])\n",
    "                        globals()['S{}_Threshold'.format(i)] = np.mean(globals()['sensor{}'.format(i)][idx_tmp-50:idx_tmp]) + Threshold  #Th업데이트\n",
    "                        globals()['init_s{}'.format(i)] = []  #offset 계산해주는 리스트 초기화\n",
    "                        \n",
    "                        print(i,\" 센서 \", idx, \" 번째 idx 에서 Init, Threshold 업데이트!!! : \", np.round(globals()['S{}_Threshold'.format(i)], 3))\n",
    "                \n",
    "                if globals()['sensor{}'.format(i)][idx] > globals()['S{}_Threshold'.format(i)] and globals()['s{}_safe_cnt'.format(i)] > 50: # 안전장치: 계속 넘으면 다시 안내려감 = 1초 동안 넘으면 다시 내려감\n",
    "                    print(i, \" 센서 안전 장치! \")  #sensor 값에서 바로 추출\n",
    "                    idx_tmp = len(globals()['sensor{}'.format(i)])\n",
    "                    globals()['offset_s{}'.format(i)] = np.mean(globals()['sensor{}'.format(i)][idx_tmp-50:idx_tmp]) #offset 다시 설정\n",
    "                    globals()['s{}_safe_cnt'.format(i)] = 0\n",
    "                \n",
    "                if idx == globals()['s{}_end_frame'.format(i)] and idx > 800:  #대략 맨 처음 8초 정도\n",
    "                    print(i,\" 센서 => 리스트에 저장\")\n",
    "                    globals()['sensor{}_frame'.format(i)].append([globals()['s{}_start_frame'.format(i)], globals()['s{}_end_frame'.format(i)]]) \n",
    "                    globals()['s{}_end_frame'.format(i)], globals()['s{}_start_frame'.format(i)], globals()['s{}_cnt'.format(i)], globals()['s{}_safe_cnt_2'.format(i)] = 0, 0, 0, 0  #초기화\n",
    "            \n",
    "#-----------------------------------------------------------------------------------------------------------------------------------------           \n",
    "            #맨 처음 넘은 건 바로 저장, 마지막 시점은 계속 업데이트\n",
    "            if next_frame_period < idx:\n",
    "                \n",
    "                for k in range(1,5):\n",
    "                    if not globals()['sensor{}_frame'.format(k)]:    #빈리스트 체크 = True 일 때 pass\n",
    "                        pass\n",
    "                    \n",
    "                    else:     #빈리스트가 아니면 \n",
    "                        start_frame = globals()['sensor{}_frame'.format(k)][-1][0]   #맨처음만 저장    \n",
    "                        end_frame = globals()['sensor{}_frame'.format(k)][-1][1]   #계속 업데이트\n",
    "                        #now1 = globals()['sensor{}_frame'.format(k)][-1][0]\n",
    "                        #if now1 != 0 and start_frame == 0 and now1 > end_frame+50: \n",
    "                        #    start_frame = globals()['sensor{}_frame'.format(k)][-1][0]   #맨처음만 저장\n",
    "                        #    break\n",
    "                    \n",
    "                        \n",
    "                if  idx == end_frame and start_frame != 0 and end_frame != 0:  #start_frame + 100? end_frame?\n",
    "                    Final_frame.append([start_frame, end_frame])\n",
    "                    print(\"Final Frame ===============> \", Final_frame[-1])\n",
    "                    start_frame, end_frame = 0, 0\n",
    "                    for k in range(1,5):\n",
    "                        globals()['sensor{}_frame'.format(k)] = []  #초기화\n",
    "                    next_frame_period = idx + 400\n",
    "                \n",
    "            idx = idx + 1\n",
    "            "
   ]
  },
  {
   "cell_type": "code",
   "execution_count": null,
   "id": "ed664f75",
   "metadata": {},
   "outputs": [],
   "source": []
  },
  {
   "cell_type": "code",
   "execution_count": null,
   "id": "a0108e61",
   "metadata": {},
   "outputs": [],
   "source": []
  },
  {
   "cell_type": "code",
   "execution_count": null,
   "id": "dc539a47",
   "metadata": {},
   "outputs": [],
   "source": []
  },
  {
   "cell_type": "code",
   "execution_count": null,
   "id": "4a3016e6",
   "metadata": {},
   "outputs": [],
   "source": []
  },
  {
   "cell_type": "code",
   "execution_count": null,
   "id": "aafa6b14",
   "metadata": {},
   "outputs": [],
   "source": []
  },
  {
   "cell_type": "code",
   "execution_count": null,
   "id": "6885da7b",
   "metadata": {},
   "outputs": [],
   "source": [
    "pass_point = 0\n",
    "plt.figure(figsize=(14,7))\n",
    "plt.plot(sensor1[pass_point:], label='Sensor A')\n",
    "plt.plot(sensor2[pass_point:], label='Sensor B')\n",
    "plt.plot(sensor3[pass_point:], label='Sensor C')\n",
    "plt.plot(sensor4[pass_point:], label='Sensor D')\n",
    "plt.legend(fontsize=13)\n",
    "plt.ylabel('Amp (mV)')\n",
    "\n",
    "for j in range(len(Final_frame)):\n",
    "    plt.axvline(Final_frame[j][0], color='r')\n",
    "    plt.axvline(Final_frame[j][1], color='b')\n",
    "        \n",
    "plt.grid(True)\n",
    "plt.show()"
   ]
  },
  {
   "cell_type": "code",
   "execution_count": null,
   "id": "519b7f6d",
   "metadata": {
    "scrolled": true
   },
   "outputs": [],
   "source": [
    "plt.figure(figsize=(15,30))\n",
    "j=0\n",
    "letter = ['A', 'B', 'C', 'D']\n",
    "pass_point = 0\n",
    "\n",
    "for i in range(1,5):\n",
    "    plt.subplot(4, 1, i)\n",
    "    plt.plot(globals()['sensor{}'.format(i)][pass_point:], label='Sensor %c'%letter[i-1])\n",
    "    plt.scatter(np.arange(0,len(globals()['Test_threshold{}'.format(i)])), globals()['Test_threshold{}'.format(i)], c='r')\n",
    "    plt.grid(True)\n",
    "    plt.legend()\n",
    "    plt.ylabel('Amp (mV)')\n",
    "\n",
    "plt.show()   "
   ]
  },
  {
   "cell_type": "code",
   "execution_count": null,
   "id": "e6115c93",
   "metadata": {
    "scrolled": true
   },
   "outputs": [],
   "source": [
    "plt.figure(figsize=(15,30))\n",
    "j=0\n",
    "letter = ['A', 'B', 'C', 'D']\n",
    "pass_point = 0\n",
    "\n",
    "for i in range(1,5):\n",
    "    plt.subplot(4, 1, i)\n",
    "    plt.plot(globals()['sensor{}'.format(i)][pass_point:], label='Sensor %c'%letter[i-1])\n",
    "    plt.scatter(np.arange(0,len(globals()['Test_threshold{}'.format(i)])), globals()['Test_threshold{}'.format(i)], c='r')    \n",
    "    plt.grid(True)\n",
    "    plt.legend()\n",
    "    plt.ylabel('Amp (mV)')\n",
    "    \n",
    "    for j in range(len(Final_frame)):\n",
    "        plt.axvline(Final_frame[j][0], color='r')\n",
    "        plt.axvline(Final_frame[j][1], color='b')\n",
    "\n",
    "plt.show()   "
   ]
  },
  {
   "cell_type": "code",
   "execution_count": null,
   "id": "042aab9e",
   "metadata": {
    "scrolled": true
   },
   "outputs": [],
   "source": [
    "plt.figure(figsize=(15,len(Final_frame)*5))\n",
    "j=0\n",
    "pass_point = 0\n",
    "\n",
    "for i in range(len(Final_frame)):\n",
    "    plt.subplot(len(Final_frame), 2, i+1)\n",
    "    plt.plot(sensor1[Final_frame[i][0]:Final_frame[i][1]], label='Sensor A')\n",
    "    plt.plot(sensor2[Final_frame[i][0]:Final_frame[i][1]], label='Sensor B')\n",
    "    plt.plot(sensor3[Final_frame[i][0]:Final_frame[i][1]], label='Sensor C')\n",
    "    plt.plot(sensor4[Final_frame[i][0]:Final_frame[i][1]], label='Sensor D')\n",
    "    plt.title('Frame %d'%i, fontsize=13)\n",
    "    #plt.axvline(Final_frame[i][0], color='r')\n",
    "    #plt.axvline(Final_frame[i][1], color='b')\n",
    "    plt.grid(True)\n",
    "    plt.ylabel('Amp (mV)')\n",
    "    plt.legend()\n",
    "    \n",
    "plt.tight_layout()\n",
    "plt.show()   "
   ]
  },
  {
   "cell_type": "code",
   "execution_count": null,
   "id": "4e869704",
   "metadata": {},
   "outputs": [],
   "source": [
    "for i in range(len(Final_frame)):\n",
    "    globals()['df_frame{}'.format(i)] = []\n",
    "    for j in range (1,5):\n",
    "        globals()['df_frame{}'.format(i)].append(globals()['sensor{}'.format(j)][Final_frame[i][0]:Final_frame[i][1]])\n",
    "        \n",
    "    globals()['df_frame{}'.format(i)] = pd.DataFrame(globals()['df_frame{}'.format(i)])\n",
    "    globals()['df_frame{}'.format(i)] = globals()['df_frame{}'.format(i)].transpose()\n",
    "    globals()['df_frame{}'.format(i)].to_csv('C:/Users/hlee185/OneDrive - Georgia State University/2021 Fall/IoT/Dataset/test5/Down/data_%d.csv'%i)"
   ]
  },
  {
   "cell_type": "code",
   "execution_count": null,
   "id": "97e930a6",
   "metadata": {},
   "outputs": [],
   "source": [
    "len(df_frame0), len(df_frame10), len(df_frame20), len(df_frame14)"
   ]
  },
  {
   "cell_type": "code",
   "execution_count": null,
   "id": "848ecb4d",
   "metadata": {},
   "outputs": [],
   "source": [
    "dataset = pd.read_csv(data, names=['n','a','b','c','d']).sample(n=100).sort_index().iloc[:,1:5]"
   ]
  },
  {
   "cell_type": "code",
   "execution_count": null,
   "id": "895fc955",
   "metadata": {},
   "outputs": [],
   "source": [
    "plt.plot(gs)"
   ]
  },
  {
   "cell_type": "code",
   "execution_count": null,
   "id": "fad86739",
   "metadata": {},
   "outputs": [],
   "source": [
    "\n",
    "2. 데이터로 저장 (csv)\n",
    "3. 충분히 자른 다음에 시각화 시켜보고 데이터 추출 일단 4개 = LR, RL, CW, CCW\n",
    "4. 인공지능에 학습\n"
   ]
  },
  {
   "cell_type": "code",
   "execution_count": null,
   "id": "f8972dbd",
   "metadata": {},
   "outputs": [],
   "source": []
  },
  {
   "cell_type": "code",
   "execution_count": null,
   "id": "91f9e7a9",
   "metadata": {},
   "outputs": [],
   "source": []
  },
  {
   "cell_type": "code",
   "execution_count": null,
   "id": "a33edef2",
   "metadata": {},
   "outputs": [],
   "source": []
  },
  {
   "cell_type": "code",
   "execution_count": null,
   "id": "8cb8ba92",
   "metadata": {},
   "outputs": [],
   "source": []
  },
  {
   "cell_type": "code",
   "execution_count": null,
   "id": "a20f8eb8",
   "metadata": {},
   "outputs": [],
   "source": []
  },
  {
   "cell_type": "code",
   "execution_count": null,
   "id": "b62af80b",
   "metadata": {},
   "outputs": [],
   "source": []
  },
  {
   "cell_type": "code",
   "execution_count": null,
   "id": "a01b11e0",
   "metadata": {},
   "outputs": [],
   "source": []
  },
  {
   "cell_type": "code",
   "execution_count": null,
   "id": "00ff5804",
   "metadata": {},
   "outputs": [],
   "source": []
  },
  {
   "cell_type": "code",
   "execution_count": null,
   "id": "8223156e",
   "metadata": {},
   "outputs": [],
   "source": []
  },
  {
   "cell_type": "code",
   "execution_count": null,
   "id": "c2ebaa5f",
   "metadata": {},
   "outputs": [],
   "source": []
  },
  {
   "cell_type": "code",
   "execution_count": null,
   "id": "b2d9349d",
   "metadata": {},
   "outputs": [],
   "source": []
  },
  {
   "cell_type": "code",
   "execution_count": null,
   "id": "55f271ab",
   "metadata": {},
   "outputs": [],
   "source": []
  },
  {
   "cell_type": "code",
   "execution_count": null,
   "id": "cf5de042",
   "metadata": {},
   "outputs": [],
   "source": []
  },
  {
   "cell_type": "code",
   "execution_count": null,
   "id": "18447256",
   "metadata": {},
   "outputs": [],
   "source": []
  },
  {
   "cell_type": "code",
   "execution_count": null,
   "id": "e150d7c3",
   "metadata": {},
   "outputs": [],
   "source": []
  },
  {
   "cell_type": "code",
   "execution_count": null,
   "id": "93713e98",
   "metadata": {},
   "outputs": [],
   "source": []
  },
  {
   "cell_type": "markdown",
   "id": "5acc0551",
   "metadata": {},
   "source": [
    "# FFT"
   ]
  },
  {
   "cell_type": "code",
   "execution_count": null,
   "id": "3023dbc9",
   "metadata": {},
   "outputs": [],
   "source": [
    "j=0\n",
    "plt.figure(figsize=(20,20))\n",
    "\n",
    "for i in range(1,5):\n",
    "    plt.subplot(4, 2, i)\n",
    "    x = np.arange(len(globals()['sensor{}'.format(i)])/2)\n",
    "    fft = np.fft.fft(globals()['sensor{}'.format(i)]) / len(globals()['sensor{}'.format(i)])\n",
    "    fft_magnitude = np.abs(fft)\n",
    "    fft_shift = np.fft.fftshift(fft_magnitude)    \n",
    "    \n",
    "    plt.title('FFT sensor %d'%i, fontsize=13)\n",
    "    plt.stem(x[1:], fft_shift[int(len(fft_shift)/2)+1:])\n",
    "    plt.grid(True)\n",
    "    \n",
    "plt.tight_layout()\n",
    "plt.show()"
   ]
  },
  {
   "cell_type": "code",
   "execution_count": null,
   "id": "ea5ff312",
   "metadata": {},
   "outputs": [],
   "source": []
  },
  {
   "cell_type": "code",
   "execution_count": null,
   "id": "78929de9",
   "metadata": {},
   "outputs": [],
   "source": []
  },
  {
   "cell_type": "code",
   "execution_count": null,
   "id": "449161e0",
   "metadata": {},
   "outputs": [],
   "source": []
  },
  {
   "cell_type": "code",
   "execution_count": null,
   "id": "111e8fb2",
   "metadata": {},
   "outputs": [],
   "source": []
  },
  {
   "cell_type": "code",
   "execution_count": null,
   "id": "0495e06a",
   "metadata": {},
   "outputs": [],
   "source": []
  }
 ],
 "metadata": {
  "kernelspec": {
   "display_name": "Python 3",
   "language": "python",
   "name": "python3"
  },
  "language_info": {
   "codemirror_mode": {
    "name": "ipython",
    "version": 3
   },
   "file_extension": ".py",
   "mimetype": "text/x-python",
   "name": "python",
   "nbconvert_exporter": "python",
   "pygments_lexer": "ipython3",
   "version": "3.8.8"
  }
 },
 "nbformat": 4,
 "nbformat_minor": 5
}
