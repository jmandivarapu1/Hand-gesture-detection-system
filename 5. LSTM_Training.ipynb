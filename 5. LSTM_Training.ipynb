{
 "cells": [
  {
   "cell_type": "code",
   "execution_count": 2,
   "id": "86f6c372",
   "metadata": {},
   "outputs": [],
   "source": [
    "import glob\n",
    "import numpy as np\n",
    "import matplotlib.pyplot as plt\n",
    "import pandas as pd\n",
    "from pandas import DataFrame as df\n",
    "import seaborn as sns\n",
    "\n",
    "from keras.models import load_model\n",
    "\n",
    "\n",
    "from keras.layers import LSTM, Dense\n",
    "from keras.models import Sequential\n",
    "import keras.backend as K\n",
    "from keras.callbacks import ReduceLROnPlateau, ModelCheckpoint, EarlyStopping\n",
    "from tensorflow.keras.optimizers import Adam\n",
    "\n",
    "from keras.wrappers.scikit_learn import KerasClassifier\n",
    "from sklearn.model_selection import KFold, cross_val_score\n",
    "from sklearn.preprocessing import MinMaxScaler, StandardScaler, RobustScaler\n",
    "\n",
    "from sklearn.model_selection import train_test_split"
   ]
  },
  {
   "cell_type": "code",
   "execution_count": 72,
   "id": "04da25a7",
   "metadata": {},
   "outputs": [
    {
     "data": {
      "text/plain": [
       "(100, 100, 100, 100)"
      ]
     },
     "execution_count": 72,
     "metadata": {},
     "output_type": "execute_result"
    }
   ],
   "source": [
    "LR = glob.glob('C:/Users/hlee185/OneDrive - Georgia State University/2021 Fall/IoT/Dataset/LR_100/*.csv')\n",
    "RL = glob.glob('C:/Users/hlee185/OneDrive - Georgia State University/2021 Fall/IoT/Dataset/RL_100/*.csv')\n",
    "UP = glob.glob('C:/Users/hlee185/OneDrive - Georgia State University/2021 Fall/IoT/Dataset/UP_100/*.csv')\n",
    "Down = glob.glob('C:/Users/hlee185/OneDrive - Georgia State University/2021 Fall/IoT/Dataset/Down_100/*.csv')\n",
    "\n",
    "len(LR), len(RL), len(UP), len(Down)"
   ]
  },
  {
   "cell_type": "code",
   "execution_count": 73,
   "id": "5a294afd",
   "metadata": {
    "scrolled": true
   },
   "outputs": [
    {
     "data": {
      "text/plain": [
       "array([[[0., 0., 0., 0.],\n",
       "        [0., 0., 0., 0.],\n",
       "        [0., 0., 0., 0.],\n",
       "        ...,\n",
       "        [0., 0., 0., 0.],\n",
       "        [0., 0., 0., 0.],\n",
       "        [0., 0., 0., 0.]],\n",
       "\n",
       "       [[0., 0., 0., 0.],\n",
       "        [0., 0., 0., 0.],\n",
       "        [0., 0., 0., 0.],\n",
       "        ...,\n",
       "        [0., 0., 0., 0.],\n",
       "        [0., 0., 0., 0.],\n",
       "        [0., 0., 0., 0.]],\n",
       "\n",
       "       [[0., 0., 0., 0.],\n",
       "        [0., 0., 0., 0.],\n",
       "        [0., 0., 0., 0.],\n",
       "        ...,\n",
       "        [0., 0., 0., 0.],\n",
       "        [0., 0., 0., 0.],\n",
       "        [0., 0., 0., 0.]],\n",
       "\n",
       "       ...,\n",
       "\n",
       "       [[0., 0., 0., 0.],\n",
       "        [0., 0., 0., 0.],\n",
       "        [0., 0., 0., 0.],\n",
       "        ...,\n",
       "        [0., 0., 0., 0.],\n",
       "        [0., 0., 0., 0.],\n",
       "        [0., 0., 0., 0.]],\n",
       "\n",
       "       [[0., 0., 0., 0.],\n",
       "        [0., 0., 0., 0.],\n",
       "        [0., 0., 0., 0.],\n",
       "        ...,\n",
       "        [0., 0., 0., 0.],\n",
       "        [0., 0., 0., 0.],\n",
       "        [0., 0., 0., 0.]],\n",
       "\n",
       "       [[0., 0., 0., 0.],\n",
       "        [0., 0., 0., 0.],\n",
       "        [0., 0., 0., 0.],\n",
       "        ...,\n",
       "        [0., 0., 0., 0.],\n",
       "        [0., 0., 0., 0.],\n",
       "        [0., 0., 0., 0.]]])"
      ]
     },
     "execution_count": 73,
     "metadata": {},
     "output_type": "execute_result"
    }
   ],
   "source": [
    "total_data = LR + RL + UP + Down\n",
    "\n",
    "dataset = np.zeros((len(total_data), 100, 4))\n",
    "\n",
    "dataset"
   ]
  },
  {
   "cell_type": "code",
   "execution_count": 74,
   "id": "e8159444",
   "metadata": {},
   "outputs": [],
   "source": [
    "for i, data in enumerate(total_data):\n",
    "    dataset[i] = pd.read_csv(data, names=['n','a','b','c','d']).sample(n=100).sort_index().iloc[:,1:5]"
   ]
  },
  {
   "cell_type": "code",
   "execution_count": 84,
   "id": "de08c783",
   "metadata": {},
   "outputs": [
    {
     "data": {
      "text/plain": [
       "array([[ 1.852,  3.374,  0.07 ,  1.154],\n",
       "       [ 0.148,  3.374,  0.07 ,  0.154],\n",
       "       [ 0.852,  3.374,  0.93 ,  0.154],\n",
       "       [ 0.852,  2.374,  0.93 ,  0.154],\n",
       "       [ 1.148,  1.374,  2.93 ,  1.154],\n",
       "       [ 1.148,  1.374,  2.93 ,  1.154],\n",
       "       [ 1.148,  0.374,  1.93 ,  1.154],\n",
       "       [ 2.148,  0.374,  1.93 ,  1.154],\n",
       "       [ 1.148,  0.374,  1.93 ,  1.154],\n",
       "       [ 2.148,  0.374,  0.93 ,  0.154],\n",
       "       [ 2.148,  0.374,  0.93 ,  0.154],\n",
       "       [ 1.148,  0.374,  0.93 ,  0.154],\n",
       "       [ 1.148,  0.374,  0.93 ,  0.154],\n",
       "       [ 1.148,  0.626,  0.07 ,  0.154],\n",
       "       [ 0.148,  0.626,  0.07 ,  0.154],\n",
       "       [ 0.148,  0.626,  0.07 ,  0.154],\n",
       "       [ 0.148,  0.626,  0.07 ,  0.154],\n",
       "       [ 1.148,  0.374,  1.07 ,  0.154],\n",
       "       [ 1.148,  0.374,  1.07 ,  0.846],\n",
       "       [ 0.148,  1.374,  0.07 ,  0.846],\n",
       "       [ 0.148,  1.374,  1.07 ,  0.846],\n",
       "       [ 0.148,  1.374,  0.07 ,  0.846],\n",
       "       [ 0.148,  2.374,  0.07 ,  0.154],\n",
       "       [ 1.148,  1.374,  0.07 ,  0.154],\n",
       "       [ 0.148,  1.374,  0.07 ,  1.154],\n",
       "       [ 1.148,  0.374,  1.07 ,  1.154],\n",
       "       [ 1.148,  0.374,  1.07 ,  1.154],\n",
       "       [ 0.148,  0.374,  2.07 ,  1.154],\n",
       "       [ 0.148,  0.626,  3.07 ,  2.154],\n",
       "       [ 1.148,  0.626,  3.07 ,  2.154],\n",
       "       [ 0.148,  0.626,  4.07 ,  2.154],\n",
       "       [ 1.148,  0.374,  4.07 ,  2.154],\n",
       "       [ 0.148,  0.626,  5.07 ,  2.154],\n",
       "       [ 1.148,  1.374,  6.07 ,  1.154],\n",
       "       [ 1.148,  1.374,  7.07 ,  1.154],\n",
       "       [ 1.148,  2.374,  8.07 ,  1.154],\n",
       "       [ 2.148,  2.374, 10.07 ,  2.154],\n",
       "       [ 3.148,  3.374, 13.07 ,  2.154],\n",
       "       [ 3.148,  4.374, 15.07 ,  3.154],\n",
       "       [ 4.148,  5.374, 18.07 ,  4.154],\n",
       "       [ 6.148,  6.374, 18.07 ,  4.154],\n",
       "       [ 5.148,  6.374, 19.07 ,  5.154],\n",
       "       [ 7.148,  7.374, 20.07 ,  5.154],\n",
       "       [ 7.148,  7.374, 20.07 ,  6.154],\n",
       "       [ 8.148,  7.374, 20.07 ,  6.154],\n",
       "       [ 9.148,  7.374, 20.07 ,  7.154],\n",
       "       [10.148,  7.374, 19.07 ,  8.154],\n",
       "       [12.148,  7.374, 19.07 ,  8.154],\n",
       "       [15.148,  6.374, 18.07 ,  9.154],\n",
       "       [15.148,  7.374, 17.07 ,  9.154],\n",
       "       [16.148,  7.374, 17.07 , 10.154],\n",
       "       [17.148,  7.374, 15.07 , 10.154],\n",
       "       [19.148,  6.374, 14.07 , 10.154],\n",
       "       [21.148,  6.374, 13.07 ,  9.154],\n",
       "       [22.148,  5.374, 12.07 ,  9.154],\n",
       "       [22.148,  6.374, 11.07 ,  9.154],\n",
       "       [23.148,  6.374,  9.07 ,  8.154],\n",
       "       [26.148,  3.374,  6.07 ,  7.154],\n",
       "       [26.148,  3.374,  5.07 ,  7.154],\n",
       "       [26.148,  3.374,  3.07 ,  6.154],\n",
       "       [26.148,  4.374,  3.07 ,  6.154],\n",
       "       [26.148,  4.374,  3.07 ,  5.154],\n",
       "       [21.148,  4.374,  1.07 ,  2.154],\n",
       "       [19.148,  3.374,  1.07 ,  2.154],\n",
       "       [18.148,  3.374,  1.07 ,  2.154],\n",
       "       [16.148,  3.374,  1.07 ,  2.154],\n",
       "       [14.148,  3.374,  1.07 ,  2.154],\n",
       "       [12.148,  2.374,  1.07 ,  2.154],\n",
       "       [11.148,  2.374,  1.07 ,  2.154],\n",
       "       [ 8.148,  2.374,  1.07 ,  1.154],\n",
       "       [ 7.148,  2.374,  0.07 ,  1.154],\n",
       "       [ 4.148,  2.374,  0.07 ,  1.154],\n",
       "       [ 3.148,  2.374,  0.07 ,  1.154],\n",
       "       [ 2.148,  2.374,  0.07 ,  1.154],\n",
       "       [ 2.148,  1.374,  0.07 ,  1.154],\n",
       "       [ 0.148,  1.374,  0.93 ,  1.154],\n",
       "       [ 0.148,  1.374,  0.93 ,  1.154],\n",
       "       [ 1.852,  1.374,  0.93 ,  1.154],\n",
       "       [ 1.852,  1.374,  0.93 ,  1.154],\n",
       "       [ 0.148,  0.374,  1.93 ,  1.154],\n",
       "       [ 1.148,  0.374,  2.93 ,  0.154],\n",
       "       [ 0.148,  0.374,  2.93 ,  1.154],\n",
       "       [ 0.148,  0.374,  2.93 ,  1.154],\n",
       "       [ 0.148,  1.374,  2.93 ,  1.154],\n",
       "       [ 2.148,  1.374,  2.93 ,  1.154],\n",
       "       [ 1.148,  1.374,  2.93 ,  1.154],\n",
       "       [ 1.148,  1.374,  2.93 ,  1.154],\n",
       "       [ 3.148,  0.374,  2.93 ,  0.154],\n",
       "       [ 1.148,  0.374,  1.93 ,  0.154],\n",
       "       [ 0.148,  0.374,  1.93 ,  0.154],\n",
       "       [ 0.148,  0.374,  0.93 ,  1.154],\n",
       "       [ 0.852,  0.374,  0.07 ,  1.154],\n",
       "       [ 0.852,  1.374,  0.07 ,  1.154],\n",
       "       [ 0.852,  1.374,  1.07 ,  1.154],\n",
       "       [ 0.852,  0.374,  0.07 ,  1.154],\n",
       "       [ 0.852,  1.374,  0.07 ,  1.154],\n",
       "       [ 0.852,  1.374,  1.07 ,  1.154],\n",
       "       [ 1.852,  1.374,  0.07 ,  1.154],\n",
       "       [ 0.852,  1.374,  0.07 ,  0.154],\n",
       "       [ 0.852,  1.374,  1.07 ,  0.154]])"
      ]
     },
     "execution_count": 84,
     "metadata": {},
     "output_type": "execute_result"
    }
   ],
   "source": [
    "dataset = pd.read_csv(data, names=['n','a','b','c','d']).sample(n=100).sort_index().iloc[:,1:5]\n",
    "dataset = np.array(dataset)\n",
    "dataset"
   ]
  },
  {
   "cell_type": "code",
   "execution_count": 75,
   "id": "76a4be9e",
   "metadata": {},
   "outputs": [
    {
     "data": {
      "text/plain": [
       "([<matplotlib.lines.Line2D at 0x21ed83ca430>,\n",
       "  <matplotlib.lines.Line2D at 0x21ed83ca820>,\n",
       "  <matplotlib.lines.Line2D at 0x21ed83ca340>,\n",
       "  <matplotlib.lines.Line2D at 0x21ed83cae50>],\n",
       " 400)"
      ]
     },
     "execution_count": 75,
     "metadata": {},
     "output_type": "execute_result"
    },
    {
     "data": {
      "image/png": "[encoded data removed]",
      "text/plain": [
       "<Figure size 432x288 with 1 Axes>"
      ]
     },
     "metadata": {
      "needs_background": "light"
     },
     "output_type": "display_data"
    }
   ],
   "source": [
    "plt.plot(dataset[0]), len(dataset)"
   ]
  },
  {
   "cell_type": "code",
   "execution_count": 76,
   "id": "11565d90",
   "metadata": {
    "scrolled": true
   },
   "outputs": [
    {
     "data": {
      "text/plain": [
       "((400, 100, 4), (400, 4))"
      ]
     },
     "execution_count": 76,
     "metadata": {},
     "output_type": "execute_result"
    }
   ],
   "source": [
    "label = np.array([[1, 0, 0, 0]] * len(LR) + [[0, 1, 0 ,0]] * len(RL) + [[0, 0, 1, 0]] * len(UP) + [[0, 0, 0, 1]] * len(Down))\n",
    "dataset.shape, label.shape"
   ]
  },
  {
   "cell_type": "code",
   "execution_count": null,
   "id": "04ba5816",
   "metadata": {},
   "outputs": [],
   "source": []
  },
  {
   "cell_type": "code",
   "execution_count": null,
   "id": "267fd2f3",
   "metadata": {},
   "outputs": [],
   "source": []
  },
  {
   "cell_type": "code",
   "execution_count": 10,
   "id": "a0f8e9bc",
   "metadata": {},
   "outputs": [
    {
     "data": {
      "text/plain": [
       "(120, 100, 4)"
      ]
     },
     "execution_count": 10,
     "metadata": {},
     "output_type": "execute_result"
    }
   ],
   "source": [
    "X_train, X_test, y_train, y_test = train_test_split(dataset, label, random_state=0, test_size=0.3)\n",
    "\n",
    "X_test.shape"
   ]
  },
  {
   "cell_type": "code",
   "execution_count": 43,
   "id": "428f4f94",
   "metadata": {},
   "outputs": [
    {
     "data": {
      "text/plain": [
       "(100, 4)"
      ]
     },
     "execution_count": 43,
     "metadata": {},
     "output_type": "execute_result"
    }
   ],
   "source": []
  },
  {
   "cell_type": "code",
   "execution_count": 11,
   "id": "a9e8d052",
   "metadata": {},
   "outputs": [],
   "source": [
    "callback = [\n",
    "    ReduceLROnPlateau(monitor='val_loss', factor=0.1, patience=3, min_lr=0.000001), \n",
    "    ModelCheckpoint(filepath='./weights.h5', save_best_only=True),\n",
    "    EarlyStopping(monitor='val_acc', restore_best_weights=True, patience=5)\n",
    "]"
   ]
  },
  {
   "cell_type": "code",
   "execution_count": 23,
   "id": "65b9166f",
   "metadata": {},
   "outputs": [],
   "source": [
    "K.clear_session()"
   ]
  },
  {
   "cell_type": "code",
   "execution_count": 24,
   "id": "c924ddce",
   "metadata": {},
   "outputs": [
    {
     "name": "stdout",
     "output_type": "stream",
     "text": [
      "Model: \"sequential\"\n",
      "_________________________________________________________________\n",
      "Layer (type)                 Output Shape              Param #   \n",
      "=================================================================\n",
      "lstm (LSTM)                  (None, 20)                2000      \n",
      "_________________________________________________________________\n",
      "dense (Dense)                (None, 64)                1344      \n",
      "_________________________________________________________________\n",
      "dense_1 (Dense)              (None, 16)                1040      \n",
      "_________________________________________________________________\n",
      "dense_2 (Dense)              (None, 4)                 68        \n",
      "=================================================================\n",
      "Total params: 4,452\n",
      "Trainable params: 4,452\n",
      "Non-trainable params: 0\n",
      "_________________________________________________________________\n"
     ]
    }
   ],
   "source": [
    "model_once = Sequential()\n",
    "\n",
    "model_once.add(LSTM(20, input_shape=(100,4)))\n",
    "model_once.add(Dense(64,activation='relu')) #tanh\n",
    "model_once.add(Dense(16,activation='relu')) #tanh\n",
    "model_once.add(Dense(4, activation='softmax'))\n",
    "model_once.compile(loss='categorical_crossentropy', optimizer=Adam(learning_rate=0.005), metrics=['acc'])\n",
    "\n",
    "model_once.summary()"
   ]
  },
  {
   "cell_type": "code",
   "execution_count": 25,
   "id": "684da644",
   "metadata": {
    "scrolled": true
   },
   "outputs": [
    {
     "name": "stdout",
     "output_type": "stream",
     "text": [
      "Epoch 1/30\n",
      "9/9 [==============================] - 1s 16ms/step - loss: 1.4090 - acc: 0.2036\n",
      "Epoch 2/30\n",
      "9/9 [==============================] - 0s 14ms/step - loss: 1.3813 - acc: 0.2643\n",
      "Epoch 3/30\n",
      "9/9 [==============================] - 0s 14ms/step - loss: 1.3704 - acc: 0.3321\n",
      "Epoch 4/30\n",
      "9/9 [==============================] - 0s 16ms/step - loss: 1.3462 - acc: 0.3643\n",
      "Epoch 5/30\n",
      "9/9 [==============================] - 0s 13ms/step - loss: 1.2916 - acc: 0.4143\n",
      "Epoch 6/30\n",
      "9/9 [==============================] - 0s 14ms/step - loss: 1.2477 - acc: 0.4214\n",
      "Epoch 7/30\n",
      "9/9 [==============================] - 0s 16ms/step - loss: 1.0254 - acc: 0.6036\n",
      "Epoch 8/30\n",
      "9/9 [==============================] - 0s 16ms/step - loss: 0.8291 - acc: 0.6500\n",
      "Epoch 9/30\n",
      "9/9 [==============================] - 0s 14ms/step - loss: 0.6264 - acc: 0.7286\n",
      "Epoch 10/30\n",
      "9/9 [==============================] - 0s 14ms/step - loss: 0.4036 - acc: 0.8571\n",
      "Epoch 11/30\n",
      "9/9 [==============================] - 0s 14ms/step - loss: 0.2928 - acc: 0.8893\n",
      "Epoch 12/30\n",
      "9/9 [==============================] - 0s 15ms/step - loss: 0.2755 - acc: 0.9000\n",
      "Epoch 13/30\n",
      "9/9 [==============================] - 0s 14ms/step - loss: 0.1916 - acc: 0.9357\n",
      "Epoch 14/30\n",
      "9/9 [==============================] - 0s 14ms/step - loss: 0.1523 - acc: 0.9393\n",
      "Epoch 15/30\n",
      "9/9 [==============================] - 0s 14ms/step - loss: 0.1177 - acc: 0.9750\n",
      "Epoch 16/30\n",
      "9/9 [==============================] - 0s 15ms/step - loss: 0.0764 - acc: 0.9821\n",
      "Epoch 17/30\n",
      "9/9 [==============================] - 0s 14ms/step - loss: 0.0476 - acc: 0.9929\n",
      "Epoch 18/30\n",
      "9/9 [==============================] - 0s 14ms/step - loss: 0.0360 - acc: 0.9929\n",
      "Epoch 19/30\n",
      "9/9 [==============================] - 0s 14ms/step - loss: 0.0361 - acc: 0.9929\n",
      "Epoch 20/30\n",
      "9/9 [==============================] - 0s 14ms/step - loss: 0.0640 - acc: 0.9857\n",
      "Epoch 21/30\n",
      "9/9 [==============================] - 0s 13ms/step - loss: 0.1490 - acc: 0.9643\n",
      "Epoch 22/30\n",
      "9/9 [==============================] - 0s 14ms/step - loss: 0.1553 - acc: 0.9714\n",
      "Epoch 23/30\n",
      "9/9 [==============================] - 0s 15ms/step - loss: 0.0827 - acc: 0.9857\n",
      "Epoch 24/30\n",
      "9/9 [==============================] - 0s 15ms/step - loss: 0.0552 - acc: 0.9857\n",
      "Epoch 25/30\n",
      "9/9 [==============================] - 0s 14ms/step - loss: 0.0565 - acc: 0.9857\n",
      "Epoch 26/30\n",
      "9/9 [==============================] - 0s 14ms/step - loss: 0.0639 - acc: 0.9857\n",
      "Epoch 27/30\n",
      "9/9 [==============================] - 0s 14ms/step - loss: 0.0431 - acc: 0.9857\n",
      "Epoch 28/30\n",
      "9/9 [==============================] - 0s 14ms/step - loss: 0.0156 - acc: 0.9964\n",
      "Epoch 29/30\n",
      "9/9 [==============================] - 0s 15ms/step - loss: 0.0107 - acc: 1.0000\n",
      "Epoch 30/30\n",
      "9/9 [==============================] - 0s 15ms/step - loss: 0.0083 - acc: 1.0000\n"
     ]
    }
   ],
   "source": [
    "#result = model_once.fit(X_train, y_train, validation_split=0.33, epochs=30, batch_size=10, verbose=0)\n",
    "result = model_once.fit(X_train, y_train, epochs=30)"
   ]
  },
  {
   "cell_type": "code",
   "execution_count": 26,
   "id": "dc7200df",
   "metadata": {},
   "outputs": [
    {
     "name": "stdout",
     "output_type": "stream",
     "text": [
      "4/4 [==============================] - 0s 8ms/step - loss: 0.0782 - acc: 0.9833\n"
     ]
    },
    {
     "data": {
      "text/plain": [
       "[0.07815558463335037, 0.9833333492279053]"
      ]
     },
     "execution_count": 26,
     "metadata": {},
     "output_type": "execute_result"
    }
   ],
   "source": [
    "model_once.save('LSTM model.h5')\n",
    "model_once.evaluate(X_test, y_test)"
   ]
  },
  {
   "cell_type": "code",
   "execution_count": 67,
   "id": "5247687a",
   "metadata": {},
   "outputs": [
    {
     "data": {
      "text/plain": [
       "(1, 2, 4)"
      ]
     },
     "execution_count": 67,
     "metadata": {},
     "output_type": "execute_result"
    }
   ],
   "source": [
    "a = np.arange(1,9)\n",
    "b = a.reshape(1,2,4)\n",
    "b.shape"
   ]
  },
  {
   "cell_type": "code",
   "execution_count": null,
   "id": "bf7f8c44",
   "metadata": {},
   "outputs": [],
   "source": []
  },
  {
   "cell_type": "code",
   "execution_count": null,
   "id": "a1c349a6",
   "metadata": {},
   "outputs": [],
   "source": []
  },
  {
   "cell_type": "code",
   "execution_count": null,
   "id": "c7f3b3ab",
   "metadata": {},
   "outputs": [],
   "source": []
  },
  {
   "cell_type": "code",
   "execution_count": null,
   "id": "027f3efd",
   "metadata": {},
   "outputs": [],
   "source": []
  },
  {
   "cell_type": "code",
   "execution_count": null,
   "id": "c33772fa",
   "metadata": {},
   "outputs": [],
   "source": []
  },
  {
   "cell_type": "code",
   "execution_count": 68,
   "id": "2f7f377c",
   "metadata": {},
   "outputs": [
    {
     "data": {
      "text/plain": [
       "(1, 100, 4)"
      ]
     },
     "execution_count": 68,
     "metadata": {},
     "output_type": "execute_result"
    }
   ],
   "source": [
    "s = X_test[0].reshape(1,100,4)\n",
    "s.shape"
   ]
  },
  {
   "cell_type": "code",
   "execution_count": 71,
   "id": "7d90a251",
   "metadata": {},
   "outputs": [
    {
     "data": {
      "text/plain": [
       "array([1], dtype=int64)"
      ]
     },
     "execution_count": 71,
     "metadata": {},
     "output_type": "execute_result"
    }
   ],
   "source": [
    "ans = model_once.predict(s) \n",
    "axss=np.argmax(ans,axis=1)\n",
    "axss"
   ]
  },
  {
   "cell_type": "code",
   "execution_count": 49,
   "id": "b3f25e21",
   "metadata": {},
   "outputs": [
    {
     "data": {
      "text/plain": [
       "array([1, 3, 3, 1, 2, 0, 1, 2, 1, 2, 0, 1, 1, 3, 0, 0, 2, 1, 2, 1, 1, 2,\n",
       "       1, 3, 1, 3, 1, 0, 2, 1, 1, 3, 3, 2, 0, 0, 0, 1, 1, 3, 1, 3, 0, 0,\n",
       "       2, 0, 3, 2, 1, 2, 2, 1, 2, 1, 2, 3, 0, 0, 0, 0, 0, 2, 0, 3, 1, 3,\n",
       "       1, 2, 1, 3, 0, 2, 0, 0, 1, 0, 3, 3, 3, 3, 3, 0, 0, 1, 3, 2, 1, 3,\n",
       "       3, 3, 3, 2, 0, 0, 1, 1, 1, 3, 2, 3, 2, 0, 3, 1, 2, 3, 0, 3, 1, 2,\n",
       "       0, 0, 2, 0, 3, 2, 2, 0, 2, 3], dtype=int64)"
      ]
     },
     "execution_count": 49,
     "metadata": {},
     "output_type": "execute_result"
    }
   ],
   "source": [
    "predict_x=model_once.predict(X_test) \n",
    "classes_x_test=np.argmax(predict_x,axis=1)\n",
    "\n",
    "classes_x_test"
   ]
  },
  {
   "cell_type": "code",
   "execution_count": 50,
   "id": "51ce6844",
   "metadata": {},
   "outputs": [],
   "source": [
    "classes_y_test = []\n",
    "for i in range(len(y_test)):\n",
    "    for j in range(4):\n",
    "        if y_test[i][j] == 1:\n",
    "            classes_y_test.append(j)\n"
   ]
  },
  {
   "cell_type": "code",
   "execution_count": 51,
   "id": "2e6d9166",
   "metadata": {},
   "outputs": [
    {
     "name": "stdout",
     "output_type": "stream",
     "text": [
      "Real value : Prediction\n",
      "---------------------------\n",
      "    0 \t   : \t 1\n",
      "    0 \t   : \t 2\n",
      "\n",
      "\n",
      "Number of miscalculation :  2 / 120 = 0.017\n",
      "\n",
      "Accuracy :  98.33 %\n",
      "0 : LR, 1 : RL, 3 : UP, 4 : DOWN\n"
     ]
    }
   ],
   "source": [
    "count=0\n",
    "print(\"Real value : Prediction\\n---------------------------\")\n",
    "for i in range(len(X_test)):\n",
    "    if(classes_x_test[i] != classes_y_test[i]):\n",
    "        print(\"   \",classes_y_test[i], \"\\t   : \\t\", classes_x_test[i])\n",
    "        count = count + 1\n",
    "probab = count/len(X_test)\n",
    "print(\"\\n\\nNumber of miscalculation : \",count,\"/\",len(x_test_to_int),\"=\",round(probab,3))\n",
    "print(\"\\nAccuracy : \",((1-round(probab,4))*100),\"%\")\n",
    "print(\"0 : LR, 1 : RL, 3 : UP, 4 : DOWN\")"
   ]
  },
  {
   "cell_type": "code",
   "execution_count": null,
   "id": "5bfb4986",
   "metadata": {},
   "outputs": [],
   "source": []
  }
 ],
 "metadata": {
  "kernelspec": {
   "display_name": "Python 3",
   "language": "python",
   "name": "python3"
  },
  "language_info": {
   "codemirror_mode": {
    "name": "ipython",
    "version": 3
   },
   "file_extension": ".py",
   "mimetype": "text/x-python",
   "name": "python",
   "nbconvert_exporter": "python",
   "pygments_lexer": "ipython3",
   "version": "3.8.8"
  }
 },
 "nbformat": 4,
 "nbformat_minor": 5
}
