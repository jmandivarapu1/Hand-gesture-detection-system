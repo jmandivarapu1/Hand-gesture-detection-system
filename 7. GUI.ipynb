{
 "cells": [
  {
   "cell_type": "code",
   "execution_count": 1,
   "id": "2e35c13d",
   "metadata": {},
   "outputs": [],
   "source": [
    "import tkinter as tk\n",
    "\n",
    "def createNewWindow():\n",
    "    newWindow = tk.Toplevel(app)\n",
    "\n",
    "app = tk.Tk()\n",
    "buttonExample = tk.Button(app, \n",
    "              text=\"Create new window\",\n",
    "              command=createNewWindow)\n",
    "buttonExample.pack()\n",
    "\n",
    "app.mainloop()"
   ]
  },
  {
   "cell_type": "code",
   "execution_count": 2,
   "id": "ef079df1",
   "metadata": {},
   "outputs": [],
   "source": [
    "import tkinter as tk\n",
    "\n",
    "def createNewWindow():\n",
    "    newWindow = tk.Toplevel(app)\n",
    "    labelExample = tk.Label(newWindow, text = \"New Window\")\n",
    "    buttonExample = tk.Button(newWindow, text = \"New Window button\")\n",
    "\n",
    "    labelExample.pack()\n",
    "    buttonExample.pack()\n",
    "\n",
    "app = tk.Tk()\n",
    "buttonExample = tk.Button(app, \n",
    "              text=\"Create new window\",\n",
    "              command=createNewWindow)\n",
    "buttonExample.pack()\n",
    "\n",
    "app.mainloop()"
   ]
  },
  {
   "cell_type": "code",
   "execution_count": 5,
   "id": "1fc9dbb6",
   "metadata": {},
   "outputs": [],
   "source": [
    "from tkinter import *\n",
    "import tkinter.ttk as ttk\n",
    "\n",
    "app = Tk()\n",
    "\n",
    "def changing_color(_):\n",
    "    new.configure(bg=\"red\")\n",
    "    \n",
    "def new_window():\n",
    "    global new\n",
    "    new = Toplevel()\n",
    "    new.bind(\"<Button-1>\", changing_color)\n",
    "    \n",
    "making_window_btn = Button(app, text=\"New window\", command=new_window)\n",
    "making_window_btn.pack(pady=\"5\")\n",
    "\n",
    "app.title('Go')\n",
    "app.geometry(\"1000x500\")\n",
    "\n",
    "app.mainloop()"
   ]
  },
  {
   "cell_type": "code",
   "execution_count": null,
   "id": "6af36dfc",
   "metadata": {},
   "outputs": [
    {
     "name": "stdout",
     "output_type": "stream",
     "text": [
      "start\n"
     ]
    }
   ],
   "source": [
    "from tkinter import *\n",
    "window = Tk()\n",
    "\n",
    "l1 = Label(window, text='Text')\n",
    "l2 = Label(window, text='Text', font= (30) ,fg = \"blue\")\n",
    "\n",
    "l1.pack()\n",
    "l2.pack()\n",
    "\n",
    "window.geometry(\"1000x500\")\n",
    "\n",
    "button = tk.Button(text = \"Click and Quit\", command = window.quit)\n",
    "button.pack()\n",
    "\n",
    "if input() == 'start':\n",
    "    window.mainloop()\n",
    "    \n",
    "    if input() == 'end':\n",
    "        window.mainloop()\n",
    "    \n",
    "else:\n",
    "    pass"
   ]
  },
  {
   "cell_type": "code",
   "execution_count": 17,
   "id": "acd20e98",
   "metadata": {},
   "outputs": [],
   "source": [
    "from sys import version_info\n",
    "if version_info.major == 2:\n",
    "    import Tkinter as tk\n",
    "elif version_info.major == 3:\n",
    "    import tkinter as tk\n",
    "    \n",
    "from functools import partial\n",
    "    \n",
    "\n",
    "    \n",
    "app = tk.Tk()\n",
    "labelExample = tk.Button(app, text=\"0\")\n",
    "\n",
    "def change_label_number(num):\n",
    "    counter = int(str(labelExample['text']))\n",
    "    counter += num\n",
    "    labelExample.config(text=str(counter))\n",
    "    \n",
    "buttonExample = tk.Button(app, text=\"Increase\", width=30,\n",
    "                          command=partial(change_label_number, 2))\n",
    "\n",
    "buttonExample.pack()\n",
    "labelExample.pack()\n",
    "app.mainloop()"
   ]
  },
  {
   "cell_type": "code",
   "execution_count": null,
   "id": "7d1f1be4",
   "metadata": {},
   "outputs": [],
   "source": []
  },
  {
   "cell_type": "code",
   "execution_count": 15,
   "id": "111d8f6d",
   "metadata": {},
   "outputs": [
    {
     "name": "stdout",
     "output_type": "stream",
     "text": [
      "LR\n",
      "RL\n",
      "ㅕㅔ\n",
      "up\n"
     ]
    },
    {
     "ename": "KeyboardInterrupt",
     "evalue": "Interrupted by user",
     "output_type": "error",
     "traceback": [
      "\u001b[1;31m---------------------------------------------------------------------------\u001b[0m",
      "\u001b[1;31mKeyboardInterrupt\u001b[0m                         Traceback (most recent call last)",
      "\u001b[1;32m<ipython-input-15-82fa9ade107c>\u001b[0m in \u001b[0;36m<module>\u001b[1;34m\u001b[0m\n\u001b[0;32m     43\u001b[0m     \u001b[0mroot\u001b[0m\u001b[1;33m.\u001b[0m\u001b[0mmainloop\u001b[0m\u001b[1;33m(\u001b[0m\u001b[1;33m)\u001b[0m\u001b[1;33m\u001b[0m\u001b[1;33m\u001b[0m\u001b[0m\n\u001b[0;32m     44\u001b[0m \u001b[1;33m\u001b[0m\u001b[0m\n\u001b[1;32m---> 45\u001b[1;33m     \u001b[0mtmp\u001b[0m \u001b[1;33m=\u001b[0m \u001b[0minput\u001b[0m\u001b[1;33m(\u001b[0m\u001b[1;33m)\u001b[0m\u001b[1;33m\u001b[0m\u001b[1;33m\u001b[0m\u001b[0m\n\u001b[0m",
      "\u001b[1;32m~\\Anaconda3\\lib\\site-packages\\ipykernel\\kernelbase.py\u001b[0m in \u001b[0;36mraw_input\u001b[1;34m(self, prompt)\u001b[0m\n\u001b[0;32m    858\u001b[0m                 \u001b[1;34m\"raw_input was called, but this frontend does not support input requests.\"\u001b[0m\u001b[1;33m\u001b[0m\u001b[1;33m\u001b[0m\u001b[0m\n\u001b[0;32m    859\u001b[0m             )\n\u001b[1;32m--> 860\u001b[1;33m         return self._input_request(str(prompt),\n\u001b[0m\u001b[0;32m    861\u001b[0m             \u001b[0mself\u001b[0m\u001b[1;33m.\u001b[0m\u001b[0m_parent_ident\u001b[0m\u001b[1;33m,\u001b[0m\u001b[1;33m\u001b[0m\u001b[1;33m\u001b[0m\u001b[0m\n\u001b[0;32m    862\u001b[0m             \u001b[0mself\u001b[0m\u001b[1;33m.\u001b[0m\u001b[0m_parent_header\u001b[0m\u001b[1;33m,\u001b[0m\u001b[1;33m\u001b[0m\u001b[1;33m\u001b[0m\u001b[0m\n",
      "\u001b[1;32m~\\Anaconda3\\lib\\site-packages\\ipykernel\\kernelbase.py\u001b[0m in \u001b[0;36m_input_request\u001b[1;34m(self, prompt, ident, parent, password)\u001b[0m\n\u001b[0;32m    902\u001b[0m             \u001b[1;32mexcept\u001b[0m \u001b[0mKeyboardInterrupt\u001b[0m\u001b[1;33m:\u001b[0m\u001b[1;33m\u001b[0m\u001b[1;33m\u001b[0m\u001b[0m\n\u001b[0;32m    903\u001b[0m                 \u001b[1;31m# re-raise KeyboardInterrupt, to truncate traceback\u001b[0m\u001b[1;33m\u001b[0m\u001b[1;33m\u001b[0m\u001b[1;33m\u001b[0m\u001b[0m\n\u001b[1;32m--> 904\u001b[1;33m                 \u001b[1;32mraise\u001b[0m \u001b[0mKeyboardInterrupt\u001b[0m\u001b[1;33m(\u001b[0m\u001b[1;34m\"Interrupted by user\"\u001b[0m\u001b[1;33m)\u001b[0m \u001b[1;32mfrom\u001b[0m \u001b[1;32mNone\u001b[0m\u001b[1;33m\u001b[0m\u001b[1;33m\u001b[0m\u001b[0m\n\u001b[0m\u001b[0;32m    905\u001b[0m             \u001b[1;32mexcept\u001b[0m \u001b[0mException\u001b[0m \u001b[1;32mas\u001b[0m \u001b[0me\u001b[0m\u001b[1;33m:\u001b[0m\u001b[1;33m\u001b[0m\u001b[1;33m\u001b[0m\u001b[0m\n\u001b[0;32m    906\u001b[0m                 \u001b[0mself\u001b[0m\u001b[1;33m.\u001b[0m\u001b[0mlog\u001b[0m\u001b[1;33m.\u001b[0m\u001b[0mwarning\u001b[0m\u001b[1;33m(\u001b[0m\u001b[1;34m\"Invalid Message:\"\u001b[0m\u001b[1;33m,\u001b[0m \u001b[0mexc_info\u001b[0m\u001b[1;33m=\u001b[0m\u001b[1;32mTrue\u001b[0m\u001b[1;33m)\u001b[0m\u001b[1;33m\u001b[0m\u001b[1;33m\u001b[0m\u001b[0m\n",
      "\u001b[1;31mKeyboardInterrupt\u001b[0m: Interrupted by user"
     ]
    }
   ],
   "source": [
    "from tkinter import *\n",
    "\n",
    "def printLR():\n",
    "    print('Left to Right')\n",
    "\n",
    "def printRL():\n",
    "    print('Right to Left')\n",
    "\n",
    "def printUP():\n",
    "    print('UP')\n",
    "\n",
    "def printDown():\n",
    "    print('Down')\n",
    "\n",
    "    \n",
    "tmp = input()\n",
    "\n",
    "while tmp != 'exit':\n",
    "    root = Tk()\n",
    "    root.geometry(\"1000x500\")\n",
    "    \n",
    "    if tmp == 'LR':\n",
    "        w = Label(root, text=\"Left to Right\", font=(\"Times new roman\",50))\n",
    "\n",
    "    elif tmp =='RL':\n",
    "        w = Label(root, text=\"Right to Left\", font=(\"Times new roman\",50))\n",
    "\n",
    "    elif tmp == 'up':\n",
    "        w = Label(root, text=\"UP\", font=(\"Times new roman\",50))\n",
    "\n",
    "    elif tmp == 'down':\n",
    "        w = Label(root, text=\"Down\", font=(\"Times new roman\",50))\n",
    "        \n",
    "    else:\n",
    "        w = Label(root, text=\"ERROR!\", font=(\"Times new roman\",50))\n",
    "\n",
    "    w.pack()\n",
    "\n",
    "    root.mainloop()\n",
    "    \n",
    "    tmp = input()"
   ]
  },
  {
   "cell_type": "code",
   "execution_count": null,
   "id": "3e25ebb5",
   "metadata": {},
   "outputs": [],
   "source": []
  }
 ],
 "metadata": {
  "kernelspec": {
   "display_name": "Python 3",
   "language": "python",
   "name": "python3"
  },
  "language_info": {
   "codemirror_mode": {
    "name": "ipython",
    "version": 3
   },
   "file_extension": ".py",
   "mimetype": "text/x-python",
   "name": "python",
   "nbconvert_exporter": "python",
   "pygments_lexer": "ipython3",
   "version": "3.8.10"
  }
 },
 "nbformat": 4,
 "nbformat_minor": 5
}
