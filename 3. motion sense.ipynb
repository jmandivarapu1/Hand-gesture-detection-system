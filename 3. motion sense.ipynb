{
 "cells": [
  {
   "cell_type": "code",
   "execution_count": null,
   "id": "e723a7cf",
   "metadata": {},
   "outputs": [],
   "source": [
    "import sys, serial, argparse, time\n",
    "import numpy as np\n",
    "import pandas as pd\n",
    "\n",
    "import matplotlib.pyplot as plt\n",
    "import seaborn as sns\n",
    "import os\n",
    "#import matplotlib.animation as animation\n",
    "import scipy\n",
    "from scipy import signal\n",
    "from collections import deque"
   ]
  },
  {
   "cell_type": "code",
   "execution_count": null,
   "id": "571496be",
   "metadata": {
    "scrolled": true
   },
   "outputs": [],
   "source": [
    "ser = serial.Serial(\n",
    "    port='com3',\n",
    "    baudrate=9600,\n",
    ")"
   ]
  },
  {
   "cell_type": "code",
   "execution_count": null,
   "id": "81e4fd21",
   "metadata": {},
   "outputs": [],
   "source": [
    "del ser"
   ]
  },
  {
   "cell_type": "markdown",
   "id": "ff601814",
   "metadata": {},
   "source": [
    "# Real-time signal"
   ]
  },
  {
   "cell_type": "markdown",
   "id": "aefe2370",
   "metadata": {},
   "source": [
    "### Initialization - Zero setting\n",
    "\n",
    "#### sampling rate 변함 = 값이 커지거나 급변할 때 (터치, proximity sensing) 줄어듦 (9600 아닌 값들)\n",
    "#### 9600 에서는 38, 39 유지함 => 38.5 Hz"
   ]
  },
  {
   "cell_type": "code",
   "execution_count": null,
   "id": "517103ec",
   "metadata": {},
   "outputs": [],
   "source": [
    "sensor1, sensor2, sensor3, sensor4, index  = [], [], [], [], []\n",
    "\n",
    "init_time = 5  #sec\n",
    "window_size, Sampling_freq = 19, 38.5\n",
    "\n",
    "init_period = Sampling_freq * init_time\n",
    "\n",
    "\n",
    "def init(given_init_period):\n",
    "    init_s1, init_s2, init_s3, init_s4 = [], [], [], []\n",
    "    print(\"First Initialization\")\n",
    "    \n",
    "    for i in range(int(init_period)):\n",
    "        \n",
    "        tmp = ser.readline()\n",
    "        s1, s2, s3, s4, idx = tmp.decode()[:5], tmp.decode()[6:11], tmp.decode()[12:17], tmp.decode()[18:23], tmp.decode()[23:]\n",
    "        \n",
    "        if i == int(init_period) -1:\n",
    "            end_period = float(idx) - 5000000\n",
    "        \n",
    "        try:\n",
    "            s1, s2, s3, s4, idx = (int(s1)-10000), (int(s2)-10000), (int(s3)-10000), (int(s4)-10000), (float(idx)-5000000)\n",
    "            \n",
    "            if True:\n",
    "                sensor1.append(s1)\n",
    "                sensor2.append(s2)\n",
    "                sensor3.append(s3)\n",
    "                sensor4.append(s4)\n",
    "                \n",
    "                init_s1.append(s1)\n",
    "                init_s2.append(s2)\n",
    "                init_s3.append(s3)\n",
    "                init_s4.append(s4)\n",
    "\n",
    "                index.append(idx)\n",
    "                \n",
    "        except:\n",
    "            pass\n",
    "\n",
    "    return np.mean(init_s1), np.mean(init_s2), np.mean(init_s3), np.mean(init_s4), end_period\n",
    "\n",
    "\n",
    "offset_s1, offset_s2, offset_s3, offset_s4, init_end_time = init(init_period)"
   ]
  },
  {
   "cell_type": "code",
   "execution_count": null,
   "id": "c11cd70c",
   "metadata": {},
   "outputs": [],
   "source": [
    "for i in range(1,5):\n",
    "    print(i)"
   ]
  },
  {
   "cell_type": "code",
   "execution_count": null,
   "id": "ea5be1fd",
   "metadata": {},
   "outputs": [],
   "source": [
    "sensor1"
   ]
  },
  {
   "cell_type": "markdown",
   "id": "379c0c4a",
   "metadata": {},
   "source": [
    "### 이제 할것\n",
    "\n",
    "1. 필터링 할 방법 선정 => 이것도 절대값 씌우기 => good \n",
    "- Raw 데이터에 MA 아니면\n",
    "- Raw 데이터에 LPF => 연산도 높을 것 같고 항상 저주파 대역이 높다고 하기가 어려움 \n",
    "= MA 가 더 직관적이고 나을 것 같음, LPF가 Amplitude는 좀 더 높음\n",
    "\n",
    "2. Th 설정: 움직이지 않았을 때 그것보다 조금 커야 하고 detection 값 보다 작아야 함\n",
    "- 데이터 추출: LR (B->D), RL (D->B), Up (A->C), Down (C->A), CW (A ~ D), CCW (A ~ D), 위에 위치 in each sensor (A, B, C, D)\n",
    "- 우선 30번 씩\n",
    "\n",
    "3. zero setting 이랑 Th 같이 5초 마다 업데이트\n",
    "4. Th 가 detect 되었을 때는 업데이트 하면 안됨"
   ]
  },
  {
   "cell_type": "code",
   "execution_count": null,
   "id": "ae85099f",
   "metadata": {
    "scrolled": true
   },
   "outputs": [],
   "source": [
    "init_s1, init_s2, init_s3, init_s4 = [], [], [], []\n",
    "init_lst = []\n",
    "\n",
    "while True:\n",
    "    if ser.readable():\n",
    "        res = ser.readline()\n",
    "        s1, s2, s3, s4, idx = res.decode()[:5], res.decode()[6:11], res.decode()[12:17], res.decode()[18:23], res.decode()[23:]\n",
    "                        \n",
    "        try:\n",
    "            s1, s2, s3, s4, idx = (int(s1)-10000), (int(s2)-10000), (int(s3)-10000), (int(s4)-10000), (float(idx)-5000000)\n",
    "\n",
    "        except:\n",
    "            print(idx, \" index has Error\")\n",
    "            pass\n",
    "        \n",
    "        if type(s1) == int and type(s2) == int and type(s3) == int and type(s4) == int and type(idx) == float: \n",
    "            index.append(idx)\n",
    "            \n",
    "            for i in range (1,5):\n",
    "                globals()['init_s{}'.format(i)].append(globals()['s{}'.format(i)])\n",
    "                globals()['sensor{}'.format(i)].append(globals()['s{}'.format(i)] - globals()['offset_s{}'.format(i)])\n",
    "\n",
    "            if idx % init_period == 0:  #매번 5초 마다 init 실행\n",
    "                init_lst.append(idx)\n",
    "                for k in range (1,5):\n",
    "                    globals()['offset_s{}'.format(k)] = np.mean(globals()['init_s{}'.format(k)])\n",
    "                    \n",
    "                print(idx, offset_s1, offset_s2, offset_s3, offset_s4)\n",
    "                init_s1, init_s2, init_s3, init_s4 = [], [], [], []"
   ]
  },
  {
   "cell_type": "code",
   "execution_count": null,
   "id": "d7071c51",
   "metadata": {
    "scrolled": true
   },
   "outputs": [],
   "source": [
    "len(sensor1), len(sensor2), len(sensor3), len(sensor4), len(index), init_lst"
   ]
  },
  {
   "cell_type": "code",
   "execution_count": null,
   "id": "55b38e97",
   "metadata": {},
   "outputs": [],
   "source": [
    "plt.figure(figsize=(14,7))\n",
    "plt.plot(sensor1[1:], label='Sensor 1')\n",
    "plt.plot(sensor2[1:], label='Sensor 2')\n",
    "plt.plot(sensor3[1:], label='Sensor 3')\n",
    "plt.plot(sensor4[1:], label='Sensor 4')\n",
    "plt.legend(fontsize=13)\n",
    "\n",
    "plt.grid(True)\n",
    "plt.show()"
   ]
  },
  {
   "cell_type": "code",
   "execution_count": null,
   "id": "8d1a38de",
   "metadata": {
    "scrolled": false
   },
   "outputs": [],
   "source": [
    "plt.figure(figsize=(14,7))\n",
    "\n",
    "window_size = 19\n",
    "\n",
    "series_s1, series_s2, series_s3, series_s4 = pd.Series(sensor1), pd.Series(sensor2), pd.Series(sensor3), pd.Series(sensor4)\n",
    "\n",
    "s1_ma, s2_ma, s3_ma, s4_ma = series_s1.rolling(window=window_size).mean(), series_s2.rolling(window=window_size).mean(), series_s3.rolling(window=window_size).mean(), series_s4.rolling(window=window_size).mean()\n",
    "\n",
    "plt.plot(s1_ma, label='Sensor 1')\n",
    "plt.plot(s2_ma, label='Sensor 2')\n",
    "plt.plot(s3_ma, label='Sensor 3')\n",
    "plt.plot(s4_ma, label='Sensor 4')\n",
    "\n",
    "#plt.ylim(-5,5)\n",
    "\n",
    "plt.legend(fontsize=13)\n",
    "\n",
    "plt.grid(True)\n",
    "plt.show()"
   ]
  },
  {
   "cell_type": "code",
   "execution_count": null,
   "id": "3023dbc9",
   "metadata": {},
   "outputs": [],
   "source": [
    "j=0\n",
    "plt.figure(figsize=(20,20))\n",
    "\n",
    "for i in range(1,5):\n",
    "    plt.subplot(4, 2, i)\n",
    "    x = np.arange(len(globals()['sensor{}'.format(i)])/2)\n",
    "    fft = np.fft.fft(globals()['sensor{}'.format(i)]) / len(globals()['sensor{}'.format(i)])\n",
    "    fft_magnitude = np.abs(fft)\n",
    "    fft_shift = np.fft.fftshift(fft_magnitude)    \n",
    "    \n",
    "    plt.title('FFT sensor %d'%i, fontsize=13)\n",
    "    plt.stem(x[1:], fft_shift[int(len(fft_shift)/2)+1:])\n",
    "    plt.grid(True)\n",
    "    \n",
    "plt.tight_layout()\n",
    "plt.show()"
   ]
  },
  {
   "cell_type": "code",
   "execution_count": null,
   "id": "800f67d4",
   "metadata": {},
   "outputs": [],
   "source": [
    "plt.figure(figsize=(18,5))\n",
    "start_length = int(len(fft_shift)/2)+1\n",
    "plt.plot(fft_shift[start_length:])\n",
    "plt.xlabel('Frequency', fontsize=15)\n",
    "plt.grid(True)"
   ]
  },
  {
   "cell_type": "markdown",
   "id": "87088e26",
   "metadata": {},
   "source": [
    "# LPF"
   ]
  },
  {
   "cell_type": "code",
   "execution_count": null,
   "id": "b1581e45",
   "metadata": {},
   "outputs": [],
   "source": [
    "plt.figure(figsize=(20,20))\n",
    "j,k=1,1\n",
    "\n",
    "for i in range(1,9):\n",
    "    plt.subplot(8, 2, i)\n",
    "    \n",
    "    if i%2 == 1:\n",
    "        plt.plot(globals()['sensor{}'.format(j)])\n",
    "        plt.title('Sensor %d'%j, fontsize=15)\n",
    "        j = j+1\n",
    "        \n",
    "    if i%2 == 0:\n",
    "        b = signal.firwin(window_size, cutoff=5, fs=Sampling_freq, pass_zero='lowpass')\n",
    "        x1 = signal.lfilter(b, [1.0], globals()['sensor{}'.format(k)])\n",
    "\n",
    "        plt.plot(x1)\n",
    "        plt.title('LPF 20Hz sensor %d'%k, fontsize=15)\n",
    "        k = k+1\n",
    "        \n",
    "    plt.xlabel('time (ms)')\n",
    "    plt.ylabel('Volt (V)')\n",
    "    plt.grid(True)\n",
    "    \n",
    "plt.tight_layout()\n",
    "plt.show()"
   ]
  },
  {
   "cell_type": "code",
   "execution_count": null,
   "id": "668a4d80",
   "metadata": {},
   "outputs": [],
   "source": [
    "plt.figure(figsize=(20,20))\n",
    "j,k=1,1\n",
    "\n",
    "for i in range(1,9):\n",
    "    plt.subplot(8, 2, i)\n",
    "    \n",
    "    if i%2 == 1:\n",
    "        b = signal.firwin(window_size, cutoff=5, fs=Sampling_freq, pass_zero='lowpass')\n",
    "        x1 = signal.lfilter(b, [1.0], globals()['sensor{}'.format(k)])\n",
    "\n",
    "        plt.plot(x1)\n",
    "        plt.title('LPF 20Hz sensor %d'%k, fontsize=15)\n",
    "        j = j+1\n",
    "        \n",
    "    if i%2 == 0:\n",
    "        globals()['series_sensor{}'.format(k)] = pd.Series(globals()['sensor{}'.format(k)])\n",
    "        globals()['MA_sensor{}'.format(k)] = globals()['series_sensor{}'.format(k)].rolling(window=19).mean()\n",
    "\n",
    "        plt.plot(globals()['MA_sensor{}'.format(k)])\n",
    "        plt.title('Sensor %d'%j, fontsize=15)\n",
    "        k = k+1\n",
    "        \n",
    "    plt.xlabel('time (ms)')\n",
    "    plt.ylabel('Volt (V)')\n",
    "    plt.grid(True)\n",
    "    \n",
    "plt.tight_layout()\n",
    "plt.show()"
   ]
  },
  {
   "cell_type": "code",
   "execution_count": null,
   "id": "141f4fda",
   "metadata": {},
   "outputs": [],
   "source": [
    "plt.figure(figsize=(20,8))\n",
    "for k in range(1,5):\n",
    "    b = signal.firwin(window_size, cutoff=5, fs=Sampling_freq, pass_zero='lowpass')\n",
    "    x1 = signal.lfilter(b, [1.0], globals()['sensor{}'.format(k)])\n",
    "    plt.plot(x1**2)\n",
    "    plt.grid(True)"
   ]
  },
  {
   "cell_type": "code",
   "execution_count": null,
   "id": "c6f9c425",
   "metadata": {},
   "outputs": [],
   "source": [
    "plt.figure(figsize=(20,8))\n",
    "for k in range(1,5):\n",
    "    b = signal.firwin(window_size, cutoff=5, fs=Sampling_freq, pass_zero='lowpass')\n",
    "    x1 = signal.lfilter(b, [1.0], globals()['sensor{}'.format(k)])\n",
    "    plt.plot(x1**2)\n",
    "    plt.ylim(0,300)\n",
    "    plt.xlim(200,1000)\n",
    "    plt.grid(True)"
   ]
  },
  {
   "cell_type": "code",
   "execution_count": null,
   "id": "1050f987",
   "metadata": {},
   "outputs": [],
   "source": [
    "plt.figure(figsize=(20,8))\n",
    "for k in range(1,5):\n",
    "    b = signal.firwin(window_size, cutoff=5, fs=Sampling_freq, pass_zero='lowpass')\n",
    "    x1 = signal.lfilter(b, [1.0], globals()['sensor{}'.format(k)])\n",
    "    plt.plot(x1**2)\n",
    "    plt.ylim(0,300)\n",
    "    plt.xlim(1000,2000)\n",
    "    plt.grid(True)"
   ]
  },
  {
   "cell_type": "code",
   "execution_count": null,
   "id": "96fa0efc",
   "metadata": {},
   "outputs": [],
   "source": [
    "plt.figure(figsize=(20,8))\n",
    "for k in range(1,5):\n",
    "    b = signal.firwin(window_size, cutoff=5, fs=Sampling_freq, pass_zero='lowpass')\n",
    "    x1 = signal.lfilter(b, [1.0], globals()['sensor{}'.format(k)])\n",
    "    plt.plot(x1**2)\n",
    "    plt.ylim(0,300)\n",
    "    plt.xlim(2000,3000)\n",
    "    plt.grid(True)"
   ]
  },
  {
   "cell_type": "code",
   "execution_count": null,
   "id": "b2c1a236",
   "metadata": {},
   "outputs": [],
   "source": [
    "plt.figure(figsize=(20,8))\n",
    "for k in range(1,5):\n",
    "    b = signal.firwin(window_size, cutoff=5, fs=Sampling_freq, pass_zero='lowpass')\n",
    "    x1 = signal.lfilter(b, [1.0], globals()['sensor{}'.format(k)])\n",
    "    plt.plot(x1**2)\n",
    "    plt.ylim(0,300)\n",
    "    plt.xlim(3000,4000)\n",
    "    plt.grid(True)"
   ]
  },
  {
   "cell_type": "code",
   "execution_count": null,
   "id": "ea5ff312",
   "metadata": {},
   "outputs": [],
   "source": []
  },
  {
   "cell_type": "code",
   "execution_count": null,
   "id": "78929de9",
   "metadata": {},
   "outputs": [],
   "source": []
  },
  {
   "cell_type": "code",
   "execution_count": null,
   "id": "449161e0",
   "metadata": {},
   "outputs": [],
   "source": []
  },
  {
   "cell_type": "code",
   "execution_count": null,
   "id": "21f7937c",
   "metadata": {},
   "outputs": [],
   "source": [
    "plt.figure(figsize=(20,8))\n",
    "window_size = 19\n",
    "\n",
    "series_s1, series_s2, series_s3, series_s4 = pd.Series(sensor1), pd.Series(sensor2), pd.Series(sensor3), pd.Series(sensor4)\n",
    "s1_ma, s2_ma, s3_ma, s4_ma = series_s1.rolling(window=window_size).mean(), series_s2.rolling(window=window_size).mean(), series_s3.rolling(window=window_size).mean(), series_s4.rolling(window=window_size).mean()\n",
    "\n",
    "plt.plot(s1_ma**2, label='Sensor 1')\n",
    "plt.plot(s2_ma**2, label='Sensor 2')\n",
    "plt.plot(s3_ma**2, label='Sensor 3')\n",
    "plt.plot(s4_ma**2, label='Sensor 4')\n",
    "\n",
    "#plt.ylim(-5,5)\n",
    "\n",
    "plt.legend(fontsize=13)\n",
    "\n",
    "plt.grid(True)\n",
    "plt.show()"
   ]
  },
  {
   "cell_type": "code",
   "execution_count": null,
   "id": "c5c49f11",
   "metadata": {},
   "outputs": [],
   "source": [
    "\n",
    "for i in range(len(s1_ma)):\n",
    "    \n",
    "    "
   ]
  },
  {
   "cell_type": "code",
   "execution_count": null,
   "id": "9261c29f",
   "metadata": {},
   "outputs": [],
   "source": [
    "Final_raw_MA = []\n",
    "Final_LPF = []"
   ]
  },
  {
   "cell_type": "markdown",
   "id": "8ea50a63",
   "metadata": {},
   "source": [
    "# 차분 신호 1: |t - (t-1)|"
   ]
  },
  {
   "cell_type": "code",
   "execution_count": null,
   "id": "878947a8",
   "metadata": {},
   "outputs": [],
   "source": [
    "for j in range(1,5):\n",
    "    globals()['t_subtracted{}'.format(j)] = []\n",
    "    x1 = globals()['sensor{}'.format(j)]\n",
    "    for i in range(len(globals()['sensor{}'.format(j)])-1):\n",
    "        globals()['t_subtracted{}'.format(j)].append(np.abs(x1[i] - x1[i+1]))\n",
    "        \n",
    "plt.figure(figsize=(20,15))\n",
    "j=0\n",
    "\n",
    "for i in range(1,5):\n",
    "    j = j+1\n",
    "    plt.subplot(4, 2, j)\n",
    "    plt.plot(globals()['t_subtracted{}'.format(i)])\n",
    "    plt.title('sensor %d: (t+1) - t'%i, fontsize=15)\n",
    "    plt.xlabel('time (ms)')\n",
    "    plt.ylabel('Volt (mV)')\n",
    "    plt.grid(True)\n",
    "    \n",
    "plt.tight_layout()\n",
    "plt.show()"
   ]
  },
  {
   "cell_type": "markdown",
   "id": "cb21d767",
   "metadata": {},
   "source": [
    "# 차분 신호 2"
   ]
  },
  {
   "cell_type": "markdown",
   "id": "3028cf7c",
   "metadata": {},
   "source": [
    "### Horizontal A-C, Vertical  B-D"
   ]
  },
  {
   "cell_type": "markdown",
   "id": "1e6495b9",
   "metadata": {},
   "source": [
    "#### 좋은 것 같지 않음"
   ]
  },
  {
   "cell_type": "code",
   "execution_count": null,
   "id": "8e267aef",
   "metadata": {},
   "outputs": [],
   "source": [
    "j=0\n",
    "plt.figure(figsize=(15,6))\n",
    "\n",
    "tmp = np.array(sensor1) - np.array(sensor3)\n",
    "plt.subplot(2, 2, 1)\n",
    "plt.plot(tmp)\n",
    "plt.title('Sensor A - Sensor C', fontsize=15)\n",
    "plt.grid(True)\n",
    "plt.ylabel('Volt (mV)')\n",
    "plt.xlabel('time (ms)')\n",
    "\n",
    "\n",
    "tmp = np.array(sensor2) - np.array(sensor4)\n",
    "plt.subplot(2, 2, 2)\n",
    "plt.plot(tmp)\n",
    "plt.title('Sensor B - Sensor D', fontsize=15)\n",
    "plt.grid(True)\n",
    "plt.ylabel('Volt (mV)')\n",
    "plt.xlabel('time (ms)')\n",
    "\n",
    "plt.tight_layout()\n",
    "plt.show()"
   ]
  },
  {
   "cell_type": "code",
   "execution_count": null,
   "id": "2186b7aa",
   "metadata": {},
   "outputs": [],
   "source": []
  },
  {
   "cell_type": "code",
   "execution_count": null,
   "id": "c08acccf",
   "metadata": {},
   "outputs": [],
   "source": []
  },
  {
   "cell_type": "code",
   "execution_count": null,
   "id": "75516249",
   "metadata": {},
   "outputs": [],
   "source": []
  },
  {
   "cell_type": "code",
   "execution_count": null,
   "id": "cc5df863",
   "metadata": {},
   "outputs": [],
   "source": []
  },
  {
   "cell_type": "code",
   "execution_count": null,
   "id": "111e8fb2",
   "metadata": {},
   "outputs": [],
   "source": []
  },
  {
   "cell_type": "code",
   "execution_count": null,
   "id": "0495e06a",
   "metadata": {},
   "outputs": [],
   "source": []
  },
  {
   "cell_type": "code",
   "execution_count": null,
   "id": "e65ebf60",
   "metadata": {},
   "outputs": [],
   "source": []
  },
  {
   "cell_type": "code",
   "execution_count": null,
   "id": "94f0e95d",
   "metadata": {},
   "outputs": [],
   "source": []
  },
  {
   "cell_type": "code",
   "execution_count": null,
   "id": "46e82774",
   "metadata": {},
   "outputs": [],
   "source": [
    "손동작 했을 시 고유 신호  \n",
    "1. FFt를 통해서 가장 잘나오는 대역 추출\n",
    "2. 차분 신호\n",
    "3. 차분 신호 2\n",
    "\n",
    "\n",
    "=> 가장 잘되는 거 선정 후 \n",
    "=>Zero setting\n",
    "- Threshold 계산\n",
    "- Dynamic Threshold => 정확도 평가\n",
    "- Frame 추출\n",
    "- 추출된 프레임 DL에 넣기\n",
    "\n"
   ]
  }
 ],
 "metadata": {
  "kernelspec": {
   "display_name": "Python 3",
   "language": "python",
   "name": "python3"
  },
  "language_info": {
   "codemirror_mode": {
    "name": "ipython",
    "version": 3
   },
   "file_extension": ".py",
   "mimetype": "text/x-python",
   "name": "python",
   "nbconvert_exporter": "python",
   "pygments_lexer": "ipython3",
   "version": "3.8.8"
  }
 },
 "nbformat": 4,
 "nbformat_minor": 5
}
