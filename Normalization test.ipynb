{
 "cells": [
  {
   "cell_type": "code",
   "execution_count": 1,
   "id": "8e630d05",
   "metadata": {},
   "outputs": [],
   "source": [
    "import glob\n",
    "import numpy as np\n",
    "import matplotlib.pyplot as plt\n",
    "import pandas as pd\n",
    "from pandas import DataFrame as df\n",
    "import seaborn as sns\n",
    "\n",
    "from keras.models import load_model\n",
    "\n",
    "\n",
    "from keras.layers import LSTM, GRU, Dense\n",
    "from keras.models import Sequential\n",
    "import keras.backend as K\n",
    "from keras.callbacks import ReduceLROnPlateau, ModelCheckpoint, EarlyStopping\n",
    "from tensorflow.keras.optimizers import Adam\n",
    "\n",
    "from keras.wrappers.scikit_learn import KerasClassifier\n",
    "from sklearn.model_selection import KFold, cross_val_score\n",
    "from sklearn.preprocessing import MinMaxScaler, StandardScaler, RobustScaler\n",
    "\n",
    "from sklearn.model_selection import train_test_split"
   ]
  },
  {
   "cell_type": "code",
   "execution_count": null,
   "id": "7babc56e",
   "metadata": {},
   "outputs": [],
   "source": [
    "LR = glob.glob('C:/Users/hlee185/OneDrive - Georgia State University/7번째 논문_IoT/Dataset/LR_100/*.csv')\n",
    "RL = glob.glob('C:/Users/hlee185/OneDrive - Georgia State University/7번째 논문_IoT/Dataset/RL_100/*.csv')\n",
    "UP = glob.glob('C:/Users/hlee185/OneDrive - Georgia State University/7번째 논문_IoT/Dataset/UP_100/*.csv')\n",
    "DOWN = glob.glob('C:/Users/hlee185/OneDrive - Georgia State University/7번째 논문_IoT/Dataset/Down_100/*.csv')\n",
    "CW = glob.glob('C:/Users/hlee185/OneDrive - Georgia State University/7번째 논문_IoT/Dataset/CW_100/*.csv')\n",
    "CCW = glob.glob('C:/Users/hlee185/OneDrive - Georgia State University/7번째 논문_IoT/Dataset/CCW_100/*.csv')\n",
    "AD = glob.glob('C:/Users/hlee185/OneDrive - Georgia State University/7번째 논문_IoT/Dataset/AD_100/*.csv')\n",
    "AB = glob.glob('C:/Users/hlee185/OneDrive - Georgia State University/7번째 논문_IoT/Dataset/AB_100/*.csv')\n",
    "CD = glob.glob('C:/Users/hlee185/OneDrive - Georgia State University/7번째 논문_IoT/Dataset/CD_100/*.csv')\n",
    "CB = glob.glob('C:/Users/hlee185/OneDrive - Georgia State University/7번째 논문_IoT/Dataset/CB_100/*.csv')\n",
    "\n",
    "len(LR), len(RL), len(UP), len(DOWN), len(CW), len(CCW), len(AD), len(AB), len(CD), len(CB)"
   ]
  },
  {
   "cell_type": "code",
   "execution_count": null,
   "id": "961a7bf7",
   "metadata": {},
   "outputs": [],
   "source": [
    "def make_d(dataset):\n",
    "    return np.zeros((len(dataset), 100, 4))\n",
    "\n",
    "def enumeration(dataset, store_data):\n",
    "    for i, data in enumerate(dataset):\n",
    "        tmp = pd.read_csv(data, names=['n','a','b','c','d']).sample(n=100, replace=True).sort_index().iloc[:,1:5]\n",
    "        store_data[i] = tmp\n",
    "        \n",
    "    return store_data\n",
    "\n",
    "def normalization(dataset, store_data):\n",
    "    for i in range(len(dataset)):\n",
    "        #tmp_name = 'C:/Users/hlee185/OneDrive - Georgia State University/7번째 논문_IoT/Dataset_norm/CB/CB_%d.csv'%i\n",
    "        tmp = scaler.fit_transform(dataset[i])\n",
    "        store_data.append(tmp)\n",
    "        tmp = pd.DataFrame(tmp)\n",
    "        tmp.to_csv(tmp_name)\n",
    "    \n",
    "    return store_data"
   ]
  },
  {
   "cell_type": "code",
   "execution_count": null,
   "id": "480fdd95",
   "metadata": {},
   "outputs": [],
   "source": [
    "dataset_LR, dataset_RL, dataset_UP, dataset_DOWN, dataset_CW = make_d(LR), make_d(RL), make_d(UP), make_d(DOWN), make_d(CW)\n",
    "dataset_CCW, dataset_AD, dataset_AB, dataset_CD, dataset_CB = make_d(CCW), make_d(AD), make_d(AB), make_d(CD), make_d(CB)\n",
    "\n",
    "dataset_LR, dataset_RL, dataset_UP = enumeration(LR,dataset_LR), enumeration(RL,dataset_RL), enumeration(UP,dataset_UP)\n",
    "dataset_DOWN, dataset_CW, dataset_CCW = enumeration(DOWN, dataset_DOWN), enumeration(CW, dataset_CW), enumeration(CCW, dataset_CCW) \n",
    "dataset_AD, dataset_AB, dataset_CD, dataset_CB = enumeration(AD,dataset_AD), enumeration(AB,dataset_AB), enumeration(CD,dataset_CD), enumeration(CB,dataset_CB)\n"
   ]
  },
  {
   "cell_type": "code",
   "execution_count": null,
   "id": "9e74823f",
   "metadata": {},
   "outputs": [],
   "source": [
    "normalization(dataset_CB, new_CB)\n",
    "\n",
    "ss = pd.read_csv('C:/Users/hlee185/OneDrive - Georgia State University/7번째 논문_IoT/Dataset_norm/CB/CB_0.csv',names=['n','a','b','c','d']).sample(n=100).sort_index().iloc[1:,1:5]\n",
    "plt.plot(ss[1:])"
   ]
  },
  {
   "cell_type": "code",
   "execution_count": null,
   "id": "65b795b7",
   "metadata": {},
   "outputs": [],
   "source": [
    "new_LR, new_RL, new_UP, new_DOWN, new_CW = [], [], [], [], []\n",
    "new_CCW, new_AD, new_AB, new_CD, new_CB  = [], [], [], [], []\n",
    "scaler = StandardScaler()\n",
    "\n",
    "#normalization(dataset_UP, new_UP),normalization(dataset_DOWN, new_DOWN)\n",
    "#normalization(dataset_CW, new_CW),normalization(dataset_CCW, new_CCW),normalization(dataset_AD, new_AD),normalization(dataset_AB, new_AB)\n",
    "#normalization(dataset_CD, new_CD),normalization(dataset_CB, new_CB)\n",
    "\n",
    "print(\"norm end\")"
   ]
  },
  {
   "cell_type": "code",
   "execution_count": null,
   "id": "1abccb0e",
   "metadata": {},
   "outputs": [],
   "source": []
  },
  {
   "cell_type": "code",
   "execution_count": null,
   "id": "94159f37",
   "metadata": {},
   "outputs": [],
   "source": []
  },
  {
   "cell_type": "code",
   "execution_count": null,
   "id": "4f533cad",
   "metadata": {},
   "outputs": [],
   "source": []
  },
  {
   "cell_type": "code",
   "execution_count": null,
   "id": "3d9554c2",
   "metadata": {},
   "outputs": [],
   "source": []
  },
  {
   "cell_type": "markdown",
   "id": "7da39c84",
   "metadata": {},
   "source": [
    "# 정규화 - 성능 오히려 떨어짐"
   ]
  },
  {
   "cell_type": "markdown",
   "id": "18d446b0",
   "metadata": {},
   "source": [
    "# 여기서부터 하기"
   ]
  },
  {
   "cell_type": "code",
   "execution_count": 3,
   "id": "828addc6",
   "metadata": {},
   "outputs": [
    {
     "data": {
      "text/plain": [
       "(100, 100, 100, 100, 100, 100, 100, 100, 100, 100)"
      ]
     },
     "execution_count": 3,
     "metadata": {},
     "output_type": "execute_result"
    }
   ],
   "source": [
    "LR = glob.glob('C:/Users/hlee185/OneDrive - Georgia State University/7번째 논문_IoT/Dataset_norm/LR/*.csv')\n",
    "RL = glob.glob('C:/Users/hlee185/OneDrive - Georgia State University/7번째 논문_IoT/Dataset_norm/RL/*.csv')\n",
    "UP = glob.glob('C:/Users/hlee185/OneDrive - Georgia State University/7번째 논문_IoT/Dataset_norm/UP/*.csv')\n",
    "Down = glob.glob('C:/Users/hlee185/OneDrive - Georgia State University/7번째 논문_IoT/Dataset_norm/Down/*.csv')\n",
    "CW = glob.glob('C:/Users/hlee185/OneDrive - Georgia State University/7번째 논문_IoT/Dataset_norm/CW/*.csv')\n",
    "CCW = glob.glob('C:/Users/hlee185/OneDrive - Georgia State University/7번째 논문_IoT/Dataset_norm/CCW/*.csv')\n",
    "AD = glob.glob('C:/Users/hlee185/OneDrive - Georgia State University/7번째 논문_IoT/Dataset_norm/AD/*.csv')\n",
    "AB = glob.glob('C:/Users/hlee185/OneDrive - Georgia State University/7번째 논문_IoT/Dataset_norm/AB/*.csv')\n",
    "CD = glob.glob('C:/Users/hlee185/OneDrive - Georgia State University/7번째 논문_IoT/Dataset_norm/CD/*.csv')\n",
    "CB = glob.glob('C:/Users/hlee185/OneDrive - Georgia State University/7번째 논문_IoT/Dataset_norm/CB/*.csv')\n",
    "\n",
    "len(LR), len(RL), len(UP), len(Down), len(CW), len(CCW), len(AD), len(AB), len(CD), len(CB)"
   ]
  },
  {
   "cell_type": "code",
   "execution_count": 12,
   "id": "60dde3f7",
   "metadata": {},
   "outputs": [
    {
     "data": {
      "text/plain": [
       "(100, 100, 100, 100, 100, 100, 100, 100, 100, 100)"
      ]
     },
     "execution_count": 12,
     "metadata": {},
     "output_type": "execute_result"
    }
   ],
   "source": [
    "LR = glob.glob('C:/Users/hlee185/OneDrive - Georgia State University/7번째 논문_IoT/Dataset/LR_100/*.csv')\n",
    "RL = glob.glob('C:/Users/hlee185/OneDrive - Georgia State University/7번째 논문_IoT/Dataset/RL_100/*.csv')\n",
    "UP = glob.glob('C:/Users/hlee185/OneDrive - Georgia State University/7번째 논문_IoT/Dataset/UP_100/*.csv')\n",
    "Down = glob.glob('C:/Users/hlee185/OneDrive - Georgia State University/7번째 논문_IoT/Dataset/Down_100/*.csv')\n",
    "CW = glob.glob('C:/Users/hlee185/OneDrive - Georgia State University/7번째 논문_IoT/Dataset/CW_100/*.csv')\n",
    "CCW = glob.glob('C:/Users/hlee185/OneDrive - Georgia State University/7번째 논문_IoT/Dataset/CCW_100/*.csv')\n",
    "#LRRL = glob.glob('C:/Users/hlee185/OneDrive - Georgia State University/7번째 논문_IoT/Dataset/CCW_100/*.csv')\n",
    "AD = glob.glob('C:/Users/hlee185/OneDrive - Georgia State University/7번째 논문_IoT/Dataset/AD_100/*.csv')\n",
    "AB = glob.glob('C:/Users/hlee185/OneDrive - Georgia State University/7번째 논문_IoT/Dataset/AB_100/*.csv')\n",
    "CD = glob.glob('C:/Users/hlee185/OneDrive - Georgia State University/7번째 논문_IoT/Dataset/CD_100/*.csv')\n",
    "CB = glob.glob('C:/Users/hlee185/OneDrive - Georgia State University/7번째 논문_IoT/Dataset/CB_100/*.csv')\n",
    "\n",
    "len(LR), len(RL), len(UP), len(Down), len(CW), len(CCW), len(AD), len(AB), len(CD), len(CB)"
   ]
  },
  {
   "cell_type": "code",
   "execution_count": 13,
   "id": "1a5d368a",
   "metadata": {},
   "outputs": [
    {
     "data": {
      "text/plain": [
       "(1000, 1000)"
      ]
     },
     "execution_count": 13,
     "metadata": {},
     "output_type": "execute_result"
    }
   ],
   "source": [
    "total_data = LR + RL + UP + Down + CW + CCW + AD + AB + CD + CB\n",
    "dataset = np.zeros((len(total_data), 100, 4))\n",
    "\n",
    "len(dataset), len(total_data) #dataset[0], "
   ]
  },
  {
   "cell_type": "code",
   "execution_count": 14,
   "id": "ab29a748",
   "metadata": {},
   "outputs": [
    {
     "data": {
      "text/plain": [
       "((1000, 100, 4), (1000, 10))"
      ]
     },
     "execution_count": 14,
     "metadata": {},
     "output_type": "execute_result"
    }
   ],
   "source": [
    "for i, data in enumerate(total_data):\n",
    "    tmp = pd.read_csv(data, names=['n','a','b','c','d']).sample(n=100, replace=True).sort_index().iloc[:,1:5]\n",
    "    dataset[i] = tmp\n",
    "    \n",
    "label = np.array([[1, 0, 0, 0, 0, 0, 0, 0, 0, 0]] * len(LR) + [[0, 1, 0 ,0, 0, 0, 0, 0, 0, 0]] * len(RL) \n",
    "                 + [[0, 0, 1, 0, 0, 0, 0, 0, 0, 0]] * len(UP) + [[0, 0, 0, 1, 0, 0, 0, 0, 0, 0]] * len(Down) \n",
    "                 + [[0, 0, 0, 0, 1, 0, 0, 0, 0, 0]] * len(CW) + [[0, 0, 0, 0, 0, 1, 0, 0, 0, 0]] * len(CCW) \n",
    "                 + [[0, 0, 0, 0, 0, 0, 1, 0, 0, 0]] * len(AD) + [[0, 0, 0, 0, 0, 0, 0, 1, 0, 0]] * len(AB) \n",
    "                 + [[0, 0, 0, 0, 0, 0, 0, 0, 1, 0]] * len(CD) + [[0, 0, 0, 0, 0, 0, 0, 0, 0, 1]] * len(CB) )\n",
    "dataset.shape, label.shape"
   ]
  },
  {
   "cell_type": "code",
   "execution_count": 15,
   "id": "11a93a83",
   "metadata": {},
   "outputs": [],
   "source": [
    "X_train, X_test, y_train, y_test = train_test_split(dataset, label, random_state=0, test_size=0.3)\n",
    "\n",
    "callback = [\n",
    "    ReduceLROnPlateau(monitor='val_loss', factor=0.1, patience=3, min_lr=0.000001), \n",
    "    ModelCheckpoint(filepath='./weights.h5', save_best_only=True),\n",
    "    EarlyStopping(monitor='val_acc', restore_best_weights=True, patience=5)\n",
    "]"
   ]
  },
  {
   "cell_type": "code",
   "execution_count": 16,
   "id": "83dd2250",
   "metadata": {},
   "outputs": [],
   "source": [
    "K.clear_session()\n",
    "model_once = 0"
   ]
  },
  {
   "cell_type": "code",
   "execution_count": 17,
   "id": "01730d8f",
   "metadata": {},
   "outputs": [
    {
     "name": "stdout",
     "output_type": "stream",
     "text": [
      "Epoch 1/35\n",
      "47/47 [==============================] - 2s 22ms/step - loss: 2.2630 - acc: 0.1325 - val_loss: 1.9972 - val_acc: 0.2112\n",
      "Epoch 2/35\n",
      "47/47 [==============================] - 1s 17ms/step - loss: 1.8898 - acc: 0.2479 - val_loss: 1.6596 - val_acc: 0.3190\n",
      "Epoch 3/35\n",
      "47/47 [==============================] - 1s 16ms/step - loss: 1.6980 - acc: 0.2949 - val_loss: 1.8314 - val_acc: 0.2543\n",
      "Epoch 4/35\n",
      "47/47 [==============================] - 1s 16ms/step - loss: 1.7299 - acc: 0.3483 - val_loss: 1.5994 - val_acc: 0.3448\n",
      "Epoch 5/35\n",
      "47/47 [==============================] - 1s 16ms/step - loss: 1.5443 - acc: 0.3889 - val_loss: 1.4230 - val_acc: 0.3707\n",
      "Epoch 6/35\n",
      "47/47 [==============================] - 1s 16ms/step - loss: 1.3211 - acc: 0.4338 - val_loss: 1.2107 - val_acc: 0.4957\n",
      "Epoch 7/35\n",
      "47/47 [==============================] - 1s 16ms/step - loss: 1.2759 - acc: 0.4744 - val_loss: 1.1383 - val_acc: 0.5043\n",
      "Epoch 8/35\n",
      "47/47 [==============================] - 1s 16ms/step - loss: 1.0887 - acc: 0.4957 - val_loss: 1.0604 - val_acc: 0.5302\n",
      "Epoch 9/35\n",
      "47/47 [==============================] - 1s 16ms/step - loss: 1.0588 - acc: 0.5406 - val_loss: 1.0511 - val_acc: 0.5819\n",
      "Epoch 10/35\n",
      "47/47 [==============================] - 1s 17ms/step - loss: 0.9205 - acc: 0.6004 - val_loss: 0.8221 - val_acc: 0.6681\n",
      "Epoch 11/35\n",
      "47/47 [==============================] - 1s 17ms/step - loss: 0.8168 - acc: 0.6453 - val_loss: 1.0075 - val_acc: 0.5388\n",
      "Epoch 12/35\n",
      "47/47 [==============================] - 1s 17ms/step - loss: 0.8662 - acc: 0.6325 - val_loss: 0.9792 - val_acc: 0.6466\n",
      "Epoch 13/35\n",
      "47/47 [==============================] - 1s 16ms/step - loss: 0.9425 - acc: 0.6538 - val_loss: 0.8790 - val_acc: 0.6681\n",
      "Epoch 14/35\n",
      "47/47 [==============================] - 1s 16ms/step - loss: 0.7332 - acc: 0.7286 - val_loss: 0.8236 - val_acc: 0.7414\n",
      "Epoch 15/35\n",
      "47/47 [==============================] - 1s 16ms/step - loss: 0.6416 - acc: 0.8034 - val_loss: 0.7906 - val_acc: 0.7414\n",
      "Epoch 16/35\n",
      "47/47 [==============================] - 1s 16ms/step - loss: 0.5373 - acc: 0.7949 - val_loss: 0.7095 - val_acc: 0.8319\n",
      "Epoch 17/35\n",
      "47/47 [==============================] - 1s 17ms/step - loss: 0.4182 - acc: 0.8590 - val_loss: 0.4678 - val_acc: 0.8147\n",
      "Epoch 18/35\n",
      "47/47 [==============================] - 1s 16ms/step - loss: 0.5675 - acc: 0.8205 - val_loss: 0.6130 - val_acc: 0.7629\n",
      "Epoch 19/35\n",
      "47/47 [==============================] - 1s 17ms/step - loss: 0.5524 - acc: 0.7842 - val_loss: 0.5903 - val_acc: 0.8750\n",
      "Epoch 20/35\n",
      "47/47 [==============================] - 1s 16ms/step - loss: 0.4165 - acc: 0.8632 - val_loss: 0.4104 - val_acc: 0.8836\n",
      "Epoch 21/35\n",
      "47/47 [==============================] - 1s 16ms/step - loss: 0.2830 - acc: 0.9081 - val_loss: 0.4097 - val_acc: 0.9138\n",
      "Epoch 22/35\n",
      "47/47 [==============================] - 1s 17ms/step - loss: 0.4157 - acc: 0.8312 - val_loss: 0.5533 - val_acc: 0.8060\n",
      "Epoch 23/35\n",
      "47/47 [==============================] - 1s 17ms/step - loss: 0.4204 - acc: 0.8419 - val_loss: 0.4638 - val_acc: 0.8147\n",
      "Epoch 24/35\n",
      "47/47 [==============================] - 1s 17ms/step - loss: 0.3168 - acc: 0.8782 - val_loss: 0.4134 - val_acc: 0.9138\n",
      "Epoch 25/35\n",
      "47/47 [==============================] - 1s 17ms/step - loss: 0.3937 - acc: 0.8782 - val_loss: 0.4539 - val_acc: 0.8750\n",
      "Epoch 26/35\n",
      "47/47 [==============================] - 1s 17ms/step - loss: 0.3059 - acc: 0.9060 - val_loss: 0.3454 - val_acc: 0.9181\n",
      "Epoch 27/35\n",
      "47/47 [==============================] - 1s 16ms/step - loss: 0.1812 - acc: 0.9402 - val_loss: 0.2925 - val_acc: 0.9267\n",
      "Epoch 28/35\n",
      "47/47 [==============================] - 1s 17ms/step - loss: 0.2865 - acc: 0.8996 - val_loss: 0.4338 - val_acc: 0.8060\n",
      "Epoch 29/35\n",
      "47/47 [==============================] - 1s 17ms/step - loss: 0.2806 - acc: 0.8868 - val_loss: 0.3714 - val_acc: 0.8966\n",
      "Epoch 30/35\n",
      "47/47 [==============================] - 1s 16ms/step - loss: 0.2523 - acc: 0.8825 - val_loss: 0.3009 - val_acc: 0.8836\n",
      "Epoch 31/35\n",
      "47/47 [==============================] - 1s 16ms/step - loss: 0.2284 - acc: 0.8953 - val_loss: 0.3685 - val_acc: 0.8922\n",
      "Epoch 32/35\n",
      "47/47 [==============================] - 1s 17ms/step - loss: 0.2088 - acc: 0.8910 - val_loss: 0.2751 - val_acc: 0.8405\n",
      "Epoch 33/35\n",
      "47/47 [==============================] - 1s 16ms/step - loss: 0.1982 - acc: 0.8996 - val_loss: 0.4427 - val_acc: 0.8922\n",
      "Epoch 34/35\n",
      "47/47 [==============================] - 1s 16ms/step - loss: 0.3487 - acc: 0.8697 - val_loss: 0.5589 - val_acc: 0.8578\n",
      "Epoch 35/35\n",
      "47/47 [==============================] - 1s 17ms/step - loss: 0.2526 - acc: 0.9295 - val_loss: 0.3974 - val_acc: 0.8922\n"
     ]
    }
   ],
   "source": [
    "model_once = Sequential()\n",
    "model_once.add(LSTM(20, input_shape=(100,4)))\n",
    "model_once.add(Dense(64,activation='relu')) \n",
    "model_once.add(Dense(128,activation='relu')) \n",
    "model_once.add(Dense(128,activation='relu')) \n",
    "model_once.add(Dense(64,activation='relu')) \n",
    "model_once.add(Dense(10, activation='softmax'))\n",
    "model_once.compile(loss='categorical_crossentropy', optimizer=Adam(learning_rate=0.005), metrics=['acc'])\n",
    "\n",
    "result = model_once.fit(X_train, y_train, validation_split=0.33, epochs=35, batch_size=10, verbose=1)\n",
    "#result = model_once.fit(X_train, y_train, epochs=35, verbose=2)"
   ]
  },
  {
   "cell_type": "code",
   "execution_count": 18,
   "id": "14c53ae7",
   "metadata": {},
   "outputs": [
    {
     "name": "stdout",
     "output_type": "stream",
     "text": [
      "10/10 [==============================] - 0s 5ms/step - loss: 0.5795 - acc: 0.8767\n"
     ]
    }
   ],
   "source": [
    "model_once.evaluate(X_test, y_test)\n",
    "\n",
    "predict_x=model_once.predict(X_test) \n",
    "classes_x_test=np.argmax(predict_x,axis=1)"
   ]
  },
  {
   "cell_type": "code",
   "execution_count": 20,
   "id": "204e399a",
   "metadata": {},
   "outputs": [
    {
     "name": "stdout",
     "output_type": "stream",
     "text": [
      "Real value : Prediction\n",
      "---------------------------\n",
      "    4 \t   : \t 5\n",
      "    6 \t   : \t 4\n",
      "    9 \t   : \t 8\n",
      "    6 \t   : \t 0\n",
      "    2 \t   : \t 5\n",
      "    5 \t   : \t 1\n",
      "    6 \t   : \t 3\n",
      "    4 \t   : \t 5\n",
      "    4 \t   : \t 5\n",
      "    6 \t   : \t 4\n",
      "    2 \t   : \t 8\n",
      "    4 \t   : \t 5\n",
      "    4 \t   : \t 5\n",
      "    4 \t   : \t 5\n",
      "    6 \t   : \t 4\n",
      "    5 \t   : \t 3\n",
      "    7 \t   : \t 1\n",
      "    9 \t   : \t 8\n",
      "    0 \t   : \t 8\n",
      "    3 \t   : \t 4\n",
      "    1 \t   : \t 7\n",
      "    7 \t   : \t 1\n",
      "    8 \t   : \t 0\n",
      "    3 \t   : \t 4\n",
      "    2 \t   : \t 6\n",
      "    6 \t   : \t 4\n",
      "    3 \t   : \t 4\n",
      "    6 \t   : \t 4\n",
      "    5 \t   : \t 1\n",
      "    8 \t   : \t 0\n",
      "    1 \t   : \t 0\n",
      "    6 \t   : \t 4\n",
      "    7 \t   : \t 1\n",
      "    6 \t   : \t 5\n",
      "    4 \t   : \t 0\n",
      "    8 \t   : \t 0\n",
      "    0 \t   : \t 8\n",
      "\n",
      "\n",
      "Number of miscalculation :  37 / 300 = 0.123\n",
      "\n",
      "Accuracy :  87.67 %\n",
      "0 : LR, 1 : RL, 2 : UP, 3 : DOWN, 4: CW, 5: CCW, 6: CB, 7: CD, 8: , 9: \n"
     ]
    }
   ],
   "source": [
    "classes_y_test = []\n",
    "for i in range(len(y_test)):\n",
    "    for j in range(10):  #num class \n",
    "        if y_test[i][j] == 1:\n",
    "            classes_y_test.append(j)\n",
    "\n",
    "count=0\n",
    "print(\"Real value : Prediction\\n---------------------------\")\n",
    "for i in range(len(X_test)):\n",
    "    if(classes_x_test[i] != classes_y_test[i]):\n",
    "        print(\"   \",classes_y_test[i], \"\\t   : \\t\", classes_x_test[i])\n",
    "        \n",
    "        \n",
    "        count = count + 1\n",
    "probab = count/len(X_test)\n",
    "print(\"\\n\\nNumber of miscalculation : \",count,\"/\",len(classes_x_test),\"=\",round(probab,3))\n",
    "print(\"\\nAccuracy : \",((1-round(probab,4))*100),\"%\")\n",
    "print(\"0 : LR, 1 : RL, 2 : UP, 3 : DOWN, 4: CW, 5: CCW, 6: CB, 7: CD, 8: , 9: \")"
   ]
  },
  {
   "cell_type": "code",
   "execution_count": null,
   "id": "190b87b6",
   "metadata": {},
   "outputs": [],
   "source": []
  }
 ],
 "metadata": {
  "kernelspec": {
   "display_name": "Python 3",
   "language": "python",
   "name": "python3"
  },
  "language_info": {
   "codemirror_mode": {
    "name": "ipython",
    "version": 3
   },
   "file_extension": ".py",
   "mimetype": "text/x-python",
   "name": "python",
   "nbconvert_exporter": "python",
   "pygments_lexer": "ipython3",
   "version": "3.8.8"
  }
 },
 "nbformat": 4,
 "nbformat_minor": 5
}
