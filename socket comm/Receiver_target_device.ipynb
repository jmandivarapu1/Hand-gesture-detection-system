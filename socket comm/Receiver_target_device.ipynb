{
 "cells": [
  {
   "cell_type": "code",
   "execution_count": 1,
   "metadata": {},
   "outputs": [],
   "source": [
    "import numpy as np\n",
    "import pandas as pd\n",
    "import matplotlib.pyplot as plt\n",
    "import seaborn as sns"
   ]
  },
  {
   "cell_type": "code",
   "execution_count": 2,
   "metadata": {},
   "outputs": [],
   "source": [
    "def UI(received_data):\n",
    "    print(\"UI\")"
   ]
  },
  {
   "cell_type": "code",
   "execution_count": null,
   "metadata": {
    "scrolled": true
   },
   "outputs": [
    {
     "name": "stdout",
     "output_type": "stream",
     "text": [
      "server start\n",
      "waiting for packet to arrive from sender ... \n",
      "waiting for packet to arrive from sender ... \n",
      "Connected by : 127.0.0.1 : 59971\n",
      "packet saving to receiver buffer : '3'\n",
      "UI\n",
      "packet saving to receiver buffer : '3'\n",
      "UI\n",
      "packet saving to receiver buffer : '0'\n",
      "UI\n"
     ]
    }
   ],
   "source": [
    "import socket \n",
    "from _thread import *\n",
    "import time\n",
    "import sys\n",
    "\n",
    "buffer = []\n",
    "\n",
    "def threaded(sender_socket, addr): \n",
    "    print('Connected by :', addr[0], ':', addr[1]) \n",
    "\n",
    "    while True: \n",
    "        try:\n",
    "            data = sender_socket.recv(1024) \n",
    "            if(data.decode() == 'exit'):\n",
    "                receiver_socket.close()\n",
    "                            \n",
    "            if not data: \n",
    "                print('Disconnected by ' + addr[0],':',addr[1])\n",
    "                print('Reciever buffer : ', buffer) \n",
    "                break\n",
    "\n",
    "            buffer.append(data.decode())\n",
    "            sender_socket.send(data) \n",
    "            received_data = data.decode()\n",
    "            print('packet saving to receiver buffer :', received_data)\n",
    "            \n",
    "            UI(received_data)\n",
    "                        \n",
    "            \n",
    "        except ConnectionResetError as e:\n",
    "            print('Error_Disconnected by ' + addr[0],':',) \n",
    "            break\n",
    "             \n",
    "    sender_socket.close() \n",
    "\n",
    "    \n",
    "HOST = '127.0.0.1'\n",
    "PORT = 9998\n",
    "\n",
    "receiver_socket = socket.socket(socket.AF_INET, socket.SOCK_STREAM) \n",
    "receiver_socket.setsockopt(socket.SOL_SOCKET, socket.SO_REUSEADDR, 1)\n",
    "receiver_socket.bind((HOST, PORT)) \n",
    "receiver_socket.listen() \n",
    "\n",
    "print('server start')\n",
    "\n",
    "\n",
    "while True: \n",
    "    print('waiting for packet to arrive from sender ... ') \n",
    "    sender_socket, addr = receiver_socket.accept()  \n",
    "    start_new_thread(threaded, (sender_socket, addr)) \n",
    "\n",
    "\n",
    "#command = input()\n",
    "#if(command == 'exit'):\n",
    "#    receiver_socket.close()"
   ]
  },
  {
   "cell_type": "code",
   "execution_count": null,
   "metadata": {},
   "outputs": [],
   "source": [
    "buffer"
   ]
  },
  {
   "cell_type": "code",
   "execution_count": null,
   "metadata": {},
   "outputs": [],
   "source": [
    "import pyautogui as pg \n",
    "import time\n",
    "\n",
    "pg.click()\n",
    "distance = 400\n",
    "while distance >0:\n",
    "    pg.dragRel(distance, 0, duration=0.2)\n",
    "    distance = distance - 50 \n",
    "    \n",
    "screenWidth, screenHeight = pg.size()\n",
    "pg.moveTo(screenWidth/2, screenHeight/2)\n",
    "\n"
   ]
  },
  {
   "cell_type": "code",
   "execution_count": null,
   "metadata": {},
   "outputs": [],
   "source": []
  }
 ],
 "metadata": {
  "kernelspec": {
   "display_name": "Python 3",
   "language": "python",
   "name": "python3"
  },
  "language_info": {
   "codemirror_mode": {
    "name": "ipython",
    "version": 3
   },
   "file_extension": ".py",
   "mimetype": "text/x-python",
   "name": "python",
   "nbconvert_exporter": "python",
   "pygments_lexer": "ipython3",
   "version": "3.8.8"
  }
 },
 "nbformat": 4,
 "nbformat_minor": 4
}
